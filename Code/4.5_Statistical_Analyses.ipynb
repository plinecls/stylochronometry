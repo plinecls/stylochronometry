{
 "cells": [
  {
   "cell_type": "markdown",
   "metadata": {
    "id": "07_Y3YaBM4qd"
   },
   "source": [
    "# Unabomber. Statistical analyses (see paper section 4.5)\n",
    "\n",
    "L. Verreyen\n",
    "\n",
    "O. van der Burgh\n",
    "\n",
    "P. Claes"
   ]
  },
  {
   "cell_type": "markdown",
   "metadata": {
    "id": "97nX8p-zM4qe"
   },
   "source": [
    "\n",
    "Following Nini (2017), we used the Multidimensional Analysis Tagger (Nini 2016) for analyzing Ted Kaczynski's manifestos. This tagger was applied to the folder containing the chunks (size 1500) of the manifestos of Ted Kaczynski. The tagger outputs a couple of statistics files, of which we analyzed one. This contains frequencies for 67 linguistic features that are described in the manual (Nini 2016). These linguistic features are expressed in the frequency per 100 tokens. We then also added the average sentence length per file, which is not expressed per 100 tokens, but for the entire document (chunk). \n",
    "\n",
    "We perform statistical analyses on the manifestos from 1995 and 2016, as it became clear from the previous analyses (VNC, PCA, HAC, and qualitative) that 1995 and 2010 are largely the same manifesto, with only some minor differences. Therefore, we reasoned that it is useful to compare the two manifestos (1995 and 2016) on the linguistic features that were proven to be indicative of the threatening or defaming character of a forensic text (Nini 2017). \n",
    "\n",
    "In addition, we performed correlation tests on the PCA coordinates.\n",
    "\n",
    "\n",
    "\n",
    "---\n",
    "\n",
    "- Nini, A. (2015) Multidimensional Analysis Tagger 1.3 - Manual. Available at: https://sites.google.com/site/multidimensionaltagger/.\n",
    "- Nini, A. (2017). Register variation in malicious forensic texts. *International Journal of Speech, Language & the Law, 24*(1), 99-126."
   ]
  },
  {
   "cell_type": "markdown",
   "metadata": {
    "id": "SUGozH61M4qf"
   },
   "source": [
    "### Table of contents\n",
    "\n",
    "1. Preprocessing\n",
    "2. Exploratory Analysis\n",
    "      - 2.1. Testing for normality\n",
    "      - 2.2. Difference in central tendency: Mann-Whitney U test\n",
    "3. Statistical analysis\n",
    "      - 3.1. Interpretation\n",
    "4. Visualization\n",
    "5. Correlation tests with coordinates of Principal Component Analysis"
   ]
  },
  {
   "cell_type": "markdown",
   "metadata": {
    "id": "c_PQaBlbM4qg"
   },
   "source": [
    "# 1. Preprocessing"
   ]
  },
  {
   "cell_type": "code",
   "execution_count": null,
   "metadata": {
    "id": "Hio0UCnIM4qg"
   },
   "outputs": [],
   "source": [
    "df <- read.csv(\"/Users/Documents/dta/CLS/CLS_final/chunks_1500/chunks_1500_stats.csv\")"
   ]
  },
  {
   "cell_type": "code",
   "execution_count": null,
   "metadata": {
    "id": "pK5ouOzZM4qh"
   },
   "outputs": [],
   "source": [
    "df$texts <- NULL\n",
    "df$years <- NULL"
   ]
  },
  {
   "cell_type": "code",
   "execution_count": null,
   "metadata": {
    "id": "jN22ypn-M4qh",
    "outputId": "e23143ba-356e-4674-f062-27fe9ff28ad5"
   },
   "outputs": [
    {
     "data": {
      "text/html": [
       "<table>\n",
       "<caption>A data.frame: 6 × 72</caption>\n",
       "<thead>\n",
       "\t<tr><th></th><th scope=col>Filename</th><th scope=col>year</th><th scope=col>Tokens</th><th scope=col>AWL</th><th scope=col>TTR</th><th scope=col>AMP</th><th scope=col>ANDC</th><th scope=col>BEMA</th><th scope=col>BYPA</th><th scope=col>CAUS</th><th scope=col>⋯</th><th scope=col>VPRT</th><th scope=col>WHCL</th><th scope=col>WHOBJ</th><th scope=col>WHQU</th><th scope=col>WHSUB</th><th scope=col>WZPAST</th><th scope=col>WZPRES</th><th scope=col>XX0</th><th scope=col>Unnamed..69</th><th scope=col>Average_sentence_length</th></tr>\n",
       "\t<tr><th></th><th scope=col>&lt;chr&gt;</th><th scope=col>&lt;int&gt;</th><th scope=col>&lt;dbl&gt;</th><th scope=col>&lt;dbl&gt;</th><th scope=col>&lt;dbl&gt;</th><th scope=col>&lt;dbl&gt;</th><th scope=col>&lt;dbl&gt;</th><th scope=col>&lt;dbl&gt;</th><th scope=col>&lt;dbl&gt;</th><th scope=col>&lt;dbl&gt;</th><th scope=col>⋯</th><th scope=col>&lt;dbl&gt;</th><th scope=col>&lt;dbl&gt;</th><th scope=col>&lt;dbl&gt;</th><th scope=col>&lt;dbl&gt;</th><th scope=col>&lt;dbl&gt;</th><th scope=col>&lt;dbl&gt;</th><th scope=col>&lt;dbl&gt;</th><th scope=col>&lt;dbl&gt;</th><th scope=col>&lt;lgl&gt;</th><th scope=col>&lt;dbl&gt;</th></tr>\n",
       "</thead>\n",
       "<tbody>\n",
       "\t<tr><th scope=row>81</th><td>2010_manifesto-17</td><td>2010</td><td>1501</td><td>5.01</td><td>550</td><td>0.13</td><td>0.33</td><td>2.13</td><td>0.07</td><td>0.20</td><td>⋯</td><td>4.66</td><td>0.00</td><td>0.00</td><td>0.00</td><td>0.20</td><td>0.27</td><td>0.07</td><td>0.73</td><td>NA</td><td>21.74</td></tr>\n",
       "\t<tr><th scope=row>82</th><td>2016_manifesto-28</td><td>2016</td><td>1503</td><td>4.97</td><td>568</td><td>0.27</td><td>0.67</td><td>1.86</td><td>0.07</td><td>0.27</td><td>⋯</td><td>3.53</td><td>0.13</td><td>0.00</td><td>0.00</td><td>0.13</td><td>0.27</td><td>0.13</td><td>0.73</td><td>NA</td><td>25.00</td></tr>\n",
       "\t<tr><th scope=row>83</th><td>2016_manifesto-38</td><td>2016</td><td>1500</td><td>5.30</td><td>559</td><td>0.27</td><td>1.20</td><td>1.93</td><td>0.00</td><td>0.00</td><td>⋯</td><td>3.67</td><td>0.13</td><td>0.13</td><td>0.07</td><td>0.20</td><td>0.13</td><td>0.13</td><td>0.60</td><td>NA</td><td>24.59</td></tr>\n",
       "\t<tr><th scope=row>84</th><td>2010_manifesto-6 </td><td>2010</td><td>1503</td><td>4.67</td><td>540</td><td>0.40</td><td>0.53</td><td>2.59</td><td>0.33</td><td>0.13</td><td>⋯</td><td>7.65</td><td>0.00</td><td>0.13</td><td>0.00</td><td>0.13</td><td>0.13</td><td>0.20</td><td>1.26</td><td>NA</td><td>22.40</td></tr>\n",
       "\t<tr><th scope=row>85</th><td>1995_manifesto-14</td><td>1995</td><td>1502</td><td>5.03</td><td>557</td><td>0.20</td><td>0.47</td><td>1.93</td><td>0.20</td><td>0.40</td><td>⋯</td><td>6.06</td><td>0.07</td><td>0.13</td><td>0.00</td><td>0.07</td><td>0.27</td><td>0.13</td><td>0.80</td><td>NA</td><td>25.86</td></tr>\n",
       "\t<tr><th scope=row>86</th><td>2016_manifesto-17</td><td>2016</td><td>1505</td><td>5.15</td><td>502</td><td>0.20</td><td>0.47</td><td>1.66</td><td>0.07</td><td>0.53</td><td>⋯</td><td>5.91</td><td>0.00</td><td>0.00</td><td>0.07</td><td>0.07</td><td>0.07</td><td>0.07</td><td>0.73</td><td>NA</td><td>30.00</td></tr>\n",
       "</tbody>\n",
       "</table>\n"
      ],
      "text/latex": [
       "A data.frame: 6 × 72\n",
       "\\begin{tabular}{r|lllllllllllllllllllll}\n",
       "  & Filename & year & Tokens & AWL & TTR & AMP & ANDC & BEMA & BYPA & CAUS & ⋯ & VPRT & WHCL & WHOBJ & WHQU & WHSUB & WZPAST & WZPRES & XX0 & Unnamed..69 & Average\\_sentence\\_length\\\\\n",
       "  & <chr> & <int> & <dbl> & <dbl> & <dbl> & <dbl> & <dbl> & <dbl> & <dbl> & <dbl> & ⋯ & <dbl> & <dbl> & <dbl> & <dbl> & <dbl> & <dbl> & <dbl> & <dbl> & <lgl> & <dbl>\\\\\n",
       "\\hline\n",
       "\t81 & 2010\\_manifesto-17 & 2010 & 1501 & 5.01 & 550 & 0.13 & 0.33 & 2.13 & 0.07 & 0.20 & ⋯ & 4.66 & 0.00 & 0.00 & 0.00 & 0.20 & 0.27 & 0.07 & 0.73 & NA & 21.74\\\\\n",
       "\t82 & 2016\\_manifesto-28 & 2016 & 1503 & 4.97 & 568 & 0.27 & 0.67 & 1.86 & 0.07 & 0.27 & ⋯ & 3.53 & 0.13 & 0.00 & 0.00 & 0.13 & 0.27 & 0.13 & 0.73 & NA & 25.00\\\\\n",
       "\t83 & 2016\\_manifesto-38 & 2016 & 1500 & 5.30 & 559 & 0.27 & 1.20 & 1.93 & 0.00 & 0.00 & ⋯ & 3.67 & 0.13 & 0.13 & 0.07 & 0.20 & 0.13 & 0.13 & 0.60 & NA & 24.59\\\\\n",
       "\t84 & 2010\\_manifesto-6  & 2010 & 1503 & 4.67 & 540 & 0.40 & 0.53 & 2.59 & 0.33 & 0.13 & ⋯ & 7.65 & 0.00 & 0.13 & 0.00 & 0.13 & 0.13 & 0.20 & 1.26 & NA & 22.40\\\\\n",
       "\t85 & 1995\\_manifesto-14 & 1995 & 1502 & 5.03 & 557 & 0.20 & 0.47 & 1.93 & 0.20 & 0.40 & ⋯ & 6.06 & 0.07 & 0.13 & 0.00 & 0.07 & 0.27 & 0.13 & 0.80 & NA & 25.86\\\\\n",
       "\t86 & 2016\\_manifesto-17 & 2016 & 1505 & 5.15 & 502 & 0.20 & 0.47 & 1.66 & 0.07 & 0.53 & ⋯ & 5.91 & 0.00 & 0.00 & 0.07 & 0.07 & 0.07 & 0.07 & 0.73 & NA & 30.00\\\\\n",
       "\\end{tabular}\n"
      ],
      "text/markdown": [
       "\n",
       "A data.frame: 6 × 72\n",
       "\n",
       "| <!--/--> | Filename &lt;chr&gt; | year &lt;int&gt; | Tokens &lt;dbl&gt; | AWL &lt;dbl&gt; | TTR &lt;dbl&gt; | AMP &lt;dbl&gt; | ANDC &lt;dbl&gt; | BEMA &lt;dbl&gt; | BYPA &lt;dbl&gt; | CAUS &lt;dbl&gt; | ⋯ ⋯ | VPRT &lt;dbl&gt; | WHCL &lt;dbl&gt; | WHOBJ &lt;dbl&gt; | WHQU &lt;dbl&gt; | WHSUB &lt;dbl&gt; | WZPAST &lt;dbl&gt; | WZPRES &lt;dbl&gt; | XX0 &lt;dbl&gt; | Unnamed..69 &lt;lgl&gt; | Average_sentence_length &lt;dbl&gt; |\n",
       "|---|---|---|---|---|---|---|---|---|---|---|---|---|---|---|---|---|---|---|---|---|---|\n",
       "| 81 | 2010_manifesto-17 | 2010 | 1501 | 5.01 | 550 | 0.13 | 0.33 | 2.13 | 0.07 | 0.20 | ⋯ | 4.66 | 0.00 | 0.00 | 0.00 | 0.20 | 0.27 | 0.07 | 0.73 | NA | 21.74 |\n",
       "| 82 | 2016_manifesto-28 | 2016 | 1503 | 4.97 | 568 | 0.27 | 0.67 | 1.86 | 0.07 | 0.27 | ⋯ | 3.53 | 0.13 | 0.00 | 0.00 | 0.13 | 0.27 | 0.13 | 0.73 | NA | 25.00 |\n",
       "| 83 | 2016_manifesto-38 | 2016 | 1500 | 5.30 | 559 | 0.27 | 1.20 | 1.93 | 0.00 | 0.00 | ⋯ | 3.67 | 0.13 | 0.13 | 0.07 | 0.20 | 0.13 | 0.13 | 0.60 | NA | 24.59 |\n",
       "| 84 | 2010_manifesto-6  | 2010 | 1503 | 4.67 | 540 | 0.40 | 0.53 | 2.59 | 0.33 | 0.13 | ⋯ | 7.65 | 0.00 | 0.13 | 0.00 | 0.13 | 0.13 | 0.20 | 1.26 | NA | 22.40 |\n",
       "| 85 | 1995_manifesto-14 | 1995 | 1502 | 5.03 | 557 | 0.20 | 0.47 | 1.93 | 0.20 | 0.40 | ⋯ | 6.06 | 0.07 | 0.13 | 0.00 | 0.07 | 0.27 | 0.13 | 0.80 | NA | 25.86 |\n",
       "| 86 | 2016_manifesto-17 | 2016 | 1505 | 5.15 | 502 | 0.20 | 0.47 | 1.66 | 0.07 | 0.53 | ⋯ | 5.91 | 0.00 | 0.00 | 0.07 | 0.07 | 0.07 | 0.07 | 0.73 | NA | 30.00 |\n",
       "\n"
      ],
      "text/plain": [
       "   Filename          year Tokens AWL  TTR AMP  ANDC BEMA BYPA CAUS ⋯ VPRT WHCL\n",
       "81 2010_manifesto-17 2010 1501   5.01 550 0.13 0.33 2.13 0.07 0.20 ⋯ 4.66 0.00\n",
       "82 2016_manifesto-28 2016 1503   4.97 568 0.27 0.67 1.86 0.07 0.27 ⋯ 3.53 0.13\n",
       "83 2016_manifesto-38 2016 1500   5.30 559 0.27 1.20 1.93 0.00 0.00 ⋯ 3.67 0.13\n",
       "84 2010_manifesto-6  2010 1503   4.67 540 0.40 0.53 2.59 0.33 0.13 ⋯ 7.65 0.00\n",
       "85 1995_manifesto-14 1995 1502   5.03 557 0.20 0.47 1.93 0.20 0.40 ⋯ 6.06 0.07\n",
       "86 2016_manifesto-17 2016 1505   5.15 502 0.20 0.47 1.66 0.07 0.53 ⋯ 5.91 0.00\n",
       "   WHOBJ WHQU WHSUB WZPAST WZPRES XX0  Unnamed..69 Average_sentence_length\n",
       "81 0.00  0.00 0.20  0.27   0.07   0.73 NA          21.74                  \n",
       "82 0.00  0.00 0.13  0.27   0.13   0.73 NA          25.00                  \n",
       "83 0.13  0.07 0.20  0.13   0.13   0.60 NA          24.59                  \n",
       "84 0.13  0.00 0.13  0.13   0.20   1.26 NA          22.40                  \n",
       "85 0.13  0.00 0.07  0.27   0.13   0.80 NA          25.86                  \n",
       "86 0.00  0.07 0.07  0.07   0.07   0.73 NA          30.00                  "
      ]
     },
     "metadata": {
      "tags": []
     },
     "output_type": "display_data"
    }
   ],
   "source": [
    "tail(df)"
   ]
  },
  {
   "cell_type": "code",
   "execution_count": null,
   "metadata": {
    "id": "FcEPJTh5M4qi"
   },
   "outputs": [],
   "source": [
    "#manifestos <- df[df$Type == \"manifesto\", ]"
   ]
  },
  {
   "cell_type": "code",
   "execution_count": null,
   "metadata": {
    "id": "HBjcNrLqM4qi",
    "outputId": "1f94de65-7fb1-46e3-a76d-fd05ee784587"
   },
   "outputs": [
    {
     "name": "stdout",
     "output_type": "stream",
     "text": [
      " int [1:86] 1995 2016 2010 2010 1995 1995 2016 2016 2016 1995 ...\n"
     ]
    }
   ],
   "source": [
    "str(df$year)"
   ]
  },
  {
   "cell_type": "markdown",
   "metadata": {
    "id": "xa0uKnEiM4qi"
   },
   "source": [
    "# 2. Exploratory analysis\n",
    "\n",
    "\n",
    "According to Nini (2017) are statistically significant in distinction \"threatening\" vs. \"defaming\" in forensic texts: \n",
    "- PRMD: Preditive modals (will & shall)\n",
    "- SPP2: second person pron\n",
    "- FPP1: first person pron\n",
    "- AWL: average word length\n",
    "- TPP3: third person pronoun\n",
    "- JJ: attributive adjectives\n",
    "-  PEAS: perfect aspect\n",
    "- THVC: that as verb complement\n",
    "- VBD: past tense\n",
    "\n",
    "We add to that: \n",
    "- TTR: Type token ratio\n",
    "- average sentence length\n",
    "- COND: Conditional adverbial subordinators\n",
    "- CONC: Concessive adverbial subordinators\n",
    "\n",
    "First, we will check the frequencies of the listed linguistic variables for normality (`shapiro.test()`). As the majority of these are not normally distributed, we use a Mann-Whitney U)-test (`wilcox.test`) to determine the (significant) differences in central tendency between **1995 and 2016 manifesto**. The variables that are significantly different in central tendency will be added to a GLM binomial."
   ]
  },
  {
   "cell_type": "markdown",
   "metadata": {
    "id": "p6uOdOzyM4qj"
   },
   "source": [
    "## 2.1. Testing for normality\n",
    "Check to see if variables are normally distributed using `shapiro.test`. \n",
    "\n",
    "We look for a p-value **HIGHER** than 0.05. If it is higher than 0.05 => normally distributed. If lower => not normally distributed"
   ]
  },
  {
   "cell_type": "code",
   "execution_count": null,
   "metadata": {
    "id": "NloUwkhdM4qj"
   },
   "outputs": [],
   "source": [
    "# select dataframe with only 1995 and 2016\n",
    "df_1995_2016 <- df[df$year != 2010, ]"
   ]
  },
  {
   "cell_type": "code",
   "execution_count": null,
   "metadata": {
    "id": "1N_3J4CcM4qk",
    "outputId": "da7b915f-4a06-48b8-8f0e-8b7773c26070"
   },
   "outputs": [
    {
     "data": {
      "text/plain": [
       "\n",
       "\tShapiro-Wilk normality test\n",
       "\n",
       "data:  df_1995_2016$PRMD\n",
       "W = 0.93109, p-value = 0.00123\n"
      ]
     },
     "metadata": {
      "tags": []
     },
     "output_type": "display_data"
    }
   ],
   "source": [
    "# PRMD\n",
    "# not normally distributed\n",
    "shapiro.test(df_1995_2016$PRMD)"
   ]
  },
  {
   "cell_type": "code",
   "execution_count": null,
   "metadata": {
    "id": "9CEn2QGuM4qk",
    "outputId": "c71787df-c35f-40b7-b26f-9742e0940fc4"
   },
   "outputs": [
    {
     "data": {
      "text/plain": [
       "\n",
       "\tShapiro-Wilk normality test\n",
       "\n",
       "data:  df_1995_2016$FPP1\n",
       "W = 0.87721, p-value = 9.326e-06\n"
      ]
     },
     "metadata": {
      "tags": []
     },
     "output_type": "display_data"
    }
   ],
   "source": [
    "# FPP1\n",
    "# not normally distributed\n",
    "shapiro.test(df_1995_2016$FPP1)"
   ]
  },
  {
   "cell_type": "code",
   "execution_count": null,
   "metadata": {
    "id": "qxNJ1xL7M4qk",
    "outputId": "fc1d4dbe-3591-499c-b7cb-2ab8ae917c79"
   },
   "outputs": [
    {
     "data": {
      "text/plain": [
       "\n",
       "\tShapiro-Wilk normality test\n",
       "\n",
       "data:  df_1995_2016$SPP2\n",
       "W = 0.63871, p-value = 1.804e-11\n"
      ]
     },
     "metadata": {
      "tags": []
     },
     "output_type": "display_data"
    }
   ],
   "source": [
    "# SPP2\n",
    "# not normally distributed\n",
    "shapiro.test(df_1995_2016$SPP2)"
   ]
  },
  {
   "cell_type": "code",
   "execution_count": null,
   "metadata": {
    "id": "Rmfpi8qwM4ql",
    "outputId": "12009ed8-be05-4776-f87c-f23cbf824c03"
   },
   "outputs": [
    {
     "data": {
      "text/plain": [
       "\n",
       "\tShapiro-Wilk normality test\n",
       "\n",
       "data:  df_1995_2016$TPP3\n",
       "W = 0.95067, p-value = 0.01061\n"
      ]
     },
     "metadata": {
      "tags": []
     },
     "output_type": "display_data"
    }
   ],
   "source": [
    "# TPP3\n",
    "# not normally distributed\n",
    "shapiro.test(df_1995_2016$TPP3)"
   ]
  },
  {
   "cell_type": "code",
   "execution_count": null,
   "metadata": {
    "id": "d08w1Tr1M4ql",
    "outputId": "0b3784f8-3fc0-42c3-ed61-fe8f451cafb2"
   },
   "outputs": [
    {
     "data": {
      "text/plain": [
       "\n",
       "\tShapiro-Wilk normality test\n",
       "\n",
       "data:  df_1995_2016$AWL\n",
       "W = 0.98674, p-value = 0.7064\n"
      ]
     },
     "metadata": {
      "tags": []
     },
     "output_type": "display_data"
    }
   ],
   "source": [
    "# AWL\n",
    "# NORMALLY DISTRIBUTED\n",
    "shapiro.test(df_1995_2016$AWL)"
   ]
  },
  {
   "cell_type": "code",
   "execution_count": null,
   "metadata": {
    "id": "QvUVfDmxM4ql",
    "outputId": "ef352efc-d49d-47b3-9d38-6629e324132d"
   },
   "outputs": [
    {
     "data": {
      "text/plain": [
       "\n",
       "\tShapiro-Wilk normality test\n",
       "\n",
       "data:  df_1995_2016$JJ\n",
       "W = 0.96087, p-value = 0.03579\n"
      ]
     },
     "metadata": {
      "tags": []
     },
     "output_type": "display_data"
    }
   ],
   "source": [
    "#JJ (attributive adjectives)\n",
    "# not normally distributed\n",
    "shapiro.test(df_1995_2016$JJ)"
   ]
  },
  {
   "cell_type": "code",
   "execution_count": null,
   "metadata": {
    "id": "AApOXO-FM4qm",
    "outputId": "1f304b19-dc7d-4a2d-d334-cc5a76c142fd"
   },
   "outputs": [
    {
     "data": {
      "text/plain": [
       "\n",
       "\tShapiro-Wilk normality test\n",
       "\n",
       "data:  df_1995_2016$THVC\n",
       "W = 0.94798, p-value = 0.007782\n"
      ]
     },
     "metadata": {
      "tags": []
     },
     "output_type": "display_data"
    }
   ],
   "source": [
    "# THVC (that as verb complement)\n",
    "# not normally distributed\n",
    "shapiro.test(df_1995_2016$THVC)"
   ]
  },
  {
   "cell_type": "code",
   "execution_count": null,
   "metadata": {
    "id": "wlP3T6F9M4qm",
    "outputId": "e8213cf3-fd82-4d2f-c569-731a28fe7327"
   },
   "outputs": [
    {
     "data": {
      "text/plain": [
       "\n",
       "\tShapiro-Wilk normality test\n",
       "\n",
       "data:  df_1995_2016$PEAS\n",
       "W = 0.95765, p-value = 0.02425\n"
      ]
     },
     "metadata": {
      "tags": []
     },
     "output_type": "display_data"
    }
   ],
   "source": [
    "# PEAS (perfect aspect)\n",
    "# not normally distributed\n",
    "shapiro.test(df_1995_2016$PEAS)"
   ]
  },
  {
   "cell_type": "code",
   "execution_count": null,
   "metadata": {
    "id": "HtXnSwKKM4qm",
    "outputId": "a3a162e0-2aa8-4c3e-a6ee-589cac57ef1a"
   },
   "outputs": [
    {
     "data": {
      "text/plain": [
       "\n",
       "\tShapiro-Wilk normality test\n",
       "\n",
       "data:  df_1995_2016$VBD\n",
       "W = 0.87776, p-value = 9.748e-06\n"
      ]
     },
     "metadata": {
      "tags": []
     },
     "output_type": "display_data"
    }
   ],
   "source": [
    "# VBD (past tense)\n",
    "# not normally distributed\n",
    "shapiro.test(df_1995_2016$VBD)"
   ]
  },
  {
   "cell_type": "code",
   "execution_count": null,
   "metadata": {
    "id": "gVLVwX-vM4qn",
    "outputId": "e8fd78a4-2aa4-4649-acd3-8e3c51c6abf4"
   },
   "outputs": [
    {
     "data": {
      "text/plain": [
       "\n",
       "\tShapiro-Wilk normality test\n",
       "\n",
       "data:  df_1995_2016$TTR\n",
       "W = 0.98166, p-value = 0.4365\n"
      ]
     },
     "metadata": {
      "tags": []
     },
     "output_type": "display_data"
    }
   ],
   "source": [
    "# TTR (type token ratio)\n",
    "# NORMALLY DISTRIBUTED\n",
    "shapiro.test(df_1995_2016$TTR)"
   ]
  },
  {
   "cell_type": "code",
   "execution_count": null,
   "metadata": {
    "id": "slzYx8J3M4qn",
    "outputId": "99d0bb2d-393e-4b9a-b9e8-ee07b49bf487"
   },
   "outputs": [
    {
     "data": {
      "text/plain": [
       "\n",
       "\tShapiro-Wilk normality test\n",
       "\n",
       "data:  df_1995_2016$Average_sentence_length\n",
       "W = 0.98168, p-value = 0.4376\n"
      ]
     },
     "metadata": {
      "tags": []
     },
     "output_type": "display_data"
    }
   ],
   "source": [
    "# Average sentence length\n",
    "# NORMALLY DISTRIBUTED\n",
    "shapiro.test(df_1995_2016$Average_sentence_length)"
   ]
  },
  {
   "cell_type": "code",
   "execution_count": null,
   "metadata": {
    "id": "RFeIpHYwM4qn",
    "outputId": "d13cd633-3eff-4439-b2d3-19dbc2d20aef"
   },
   "outputs": [
    {
     "data": {
      "text/plain": [
       "\n",
       "\tShapiro-Wilk normality test\n",
       "\n",
       "data:  df_1995_2016$COND\n",
       "W = 0.95272, p-value = 0.01349\n"
      ]
     },
     "metadata": {
      "tags": []
     },
     "output_type": "display_data"
    }
   ],
   "source": [
    "# COND (conditional adverbial subordinators)\n",
    "# not normally distributed\n",
    "shapiro.test(df_1995_2016$COND)"
   ]
  },
  {
   "cell_type": "code",
   "execution_count": null,
   "metadata": {
    "id": "ScDaj7BqM4qo",
    "outputId": "8a0126f8-9ba1-4f7d-8e0e-7a01f30dc63c"
   },
   "outputs": [
    {
     "data": {
      "text/plain": [
       "\n",
       "\tShapiro-Wilk normality test\n",
       "\n",
       "data:  df_1995_2016$CONC\n",
       "W = 0.8223, p-value = 1.873e-07\n"
      ]
     },
     "metadata": {
      "tags": []
     },
     "output_type": "display_data"
    }
   ],
   "source": [
    "# CONC (concessive adverbial subordinators)\n",
    "# not normally distributed\n",
    "shapiro.test(df_1995_2016$CONC)"
   ]
  },
  {
   "cell_type": "markdown",
   "metadata": {
    "id": "EQIoDBcXM4qo"
   },
   "source": [
    "## 2.2. Difference in central tendency: Mann-Whitney U test"
   ]
  },
  {
   "cell_type": "code",
   "execution_count": null,
   "metadata": {
    "id": "sl7wHry-M4qr",
    "outputId": "c92011b2-b2da-43fa-eabe-c85083c4afaf",
    "scrolled": true
   },
   "outputs": [
    {
     "data": {
      "text/html": [
       "<table>\n",
       "<caption>A data.frame: 6 × 72</caption>\n",
       "<thead>\n",
       "\t<tr><th></th><th scope=col>Filename</th><th scope=col>year</th><th scope=col>Tokens</th><th scope=col>AWL</th><th scope=col>TTR</th><th scope=col>AMP</th><th scope=col>ANDC</th><th scope=col>BEMA</th><th scope=col>BYPA</th><th scope=col>CAUS</th><th scope=col>⋯</th><th scope=col>VPRT</th><th scope=col>WHCL</th><th scope=col>WHOBJ</th><th scope=col>WHQU</th><th scope=col>WHSUB</th><th scope=col>WZPAST</th><th scope=col>WZPRES</th><th scope=col>XX0</th><th scope=col>Unnamed..69</th><th scope=col>Average_sentence_length</th></tr>\n",
       "\t<tr><th></th><th scope=col>&lt;chr&gt;</th><th scope=col>&lt;int&gt;</th><th scope=col>&lt;dbl&gt;</th><th scope=col>&lt;dbl&gt;</th><th scope=col>&lt;dbl&gt;</th><th scope=col>&lt;dbl&gt;</th><th scope=col>&lt;dbl&gt;</th><th scope=col>&lt;dbl&gt;</th><th scope=col>&lt;dbl&gt;</th><th scope=col>&lt;dbl&gt;</th><th scope=col>⋯</th><th scope=col>&lt;dbl&gt;</th><th scope=col>&lt;dbl&gt;</th><th scope=col>&lt;dbl&gt;</th><th scope=col>&lt;dbl&gt;</th><th scope=col>&lt;dbl&gt;</th><th scope=col>&lt;dbl&gt;</th><th scope=col>&lt;dbl&gt;</th><th scope=col>&lt;dbl&gt;</th><th scope=col>&lt;lgl&gt;</th><th scope=col>&lt;dbl&gt;</th></tr>\n",
       "</thead>\n",
       "<tbody>\n",
       "\t<tr><th scope=row>1</th><td>1995_manifesto-11</td><td>1995</td><td>1500</td><td>5.14</td><td>573</td><td>0.27</td><td>0.40</td><td>1.07</td><td>0.33</td><td>0.07</td><td>⋯</td><td>5.60</td><td>0.07</td><td>0.07</td><td>0.07</td><td>0.00</td><td>0.27</td><td>0.00</td><td>0.67</td><td>NA</td><td>21.43</td></tr>\n",
       "\t<tr><th scope=row>2</th><td>2016_manifesto-12</td><td>2016</td><td>1501</td><td>5.06</td><td>549</td><td>0.47</td><td>0.80</td><td>1.67</td><td>0.07</td><td>0.00</td><td>⋯</td><td>5.46</td><td>0.07</td><td>0.00</td><td>0.00</td><td>0.07</td><td>0.07</td><td>0.07</td><td>0.53</td><td>NA</td><td>28.85</td></tr>\n",
       "\t<tr><th scope=row>5</th><td>1995_manifesto-18</td><td>1995</td><td>1501</td><td>5.08</td><td>541</td><td>0.20</td><td>0.60</td><td>1.80</td><td>0.07</td><td>0.60</td><td>⋯</td><td>5.86</td><td>0.13</td><td>0.00</td><td>0.00</td><td>0.13</td><td>0.13</td><td>0.13</td><td>0.53</td><td>NA</td><td>20.83</td></tr>\n",
       "\t<tr><th scope=row>6</th><td>1995_manifesto-2 </td><td>1995</td><td>1506</td><td>4.95</td><td>536</td><td>0.27</td><td>0.40</td><td>2.32</td><td>0.13</td><td>0.46</td><td>⋯</td><td>7.50</td><td>0.00</td><td>0.13</td><td>0.00</td><td>0.07</td><td>0.13</td><td>0.07</td><td>1.73</td><td>NA</td><td>20.83</td></tr>\n",
       "\t<tr><th scope=row>7</th><td>2016_manifesto-24</td><td>2016</td><td>1492</td><td>5.14</td><td>583</td><td>0.07</td><td>0.60</td><td>2.14</td><td>0.00</td><td>0.34</td><td>⋯</td><td>4.22</td><td>0.20</td><td>0.07</td><td>0.00</td><td>0.47</td><td>0.20</td><td>0.20</td><td>0.67</td><td>NA</td><td>27.27</td></tr>\n",
       "\t<tr><th scope=row>8</th><td>2016_manifesto-34</td><td>2016</td><td>1490</td><td>5.01</td><td>535</td><td>0.07</td><td>0.67</td><td>1.81</td><td>0.13</td><td>0.20</td><td>⋯</td><td>2.95</td><td>0.00</td><td>0.07</td><td>0.00</td><td>0.13</td><td>0.20</td><td>0.07</td><td>0.94</td><td>NA</td><td>23.44</td></tr>\n",
       "</tbody>\n",
       "</table>\n"
      ],
      "text/latex": [
       "A data.frame: 6 × 72\n",
       "\\begin{tabular}{r|lllllllllllllllllllll}\n",
       "  & Filename & year & Tokens & AWL & TTR & AMP & ANDC & BEMA & BYPA & CAUS & ⋯ & VPRT & WHCL & WHOBJ & WHQU & WHSUB & WZPAST & WZPRES & XX0 & Unnamed..69 & Average\\_sentence\\_length\\\\\n",
       "  & <chr> & <int> & <dbl> & <dbl> & <dbl> & <dbl> & <dbl> & <dbl> & <dbl> & <dbl> & ⋯ & <dbl> & <dbl> & <dbl> & <dbl> & <dbl> & <dbl> & <dbl> & <dbl> & <lgl> & <dbl>\\\\\n",
       "\\hline\n",
       "\t1 & 1995\\_manifesto-11 & 1995 & 1500 & 5.14 & 573 & 0.27 & 0.40 & 1.07 & 0.33 & 0.07 & ⋯ & 5.60 & 0.07 & 0.07 & 0.07 & 0.00 & 0.27 & 0.00 & 0.67 & NA & 21.43\\\\\n",
       "\t2 & 2016\\_manifesto-12 & 2016 & 1501 & 5.06 & 549 & 0.47 & 0.80 & 1.67 & 0.07 & 0.00 & ⋯ & 5.46 & 0.07 & 0.00 & 0.00 & 0.07 & 0.07 & 0.07 & 0.53 & NA & 28.85\\\\\n",
       "\t5 & 1995\\_manifesto-18 & 1995 & 1501 & 5.08 & 541 & 0.20 & 0.60 & 1.80 & 0.07 & 0.60 & ⋯ & 5.86 & 0.13 & 0.00 & 0.00 & 0.13 & 0.13 & 0.13 & 0.53 & NA & 20.83\\\\\n",
       "\t6 & 1995\\_manifesto-2  & 1995 & 1506 & 4.95 & 536 & 0.27 & 0.40 & 2.32 & 0.13 & 0.46 & ⋯ & 7.50 & 0.00 & 0.13 & 0.00 & 0.07 & 0.13 & 0.07 & 1.73 & NA & 20.83\\\\\n",
       "\t7 & 2016\\_manifesto-24 & 2016 & 1492 & 5.14 & 583 & 0.07 & 0.60 & 2.14 & 0.00 & 0.34 & ⋯ & 4.22 & 0.20 & 0.07 & 0.00 & 0.47 & 0.20 & 0.20 & 0.67 & NA & 27.27\\\\\n",
       "\t8 & 2016\\_manifesto-34 & 2016 & 1490 & 5.01 & 535 & 0.07 & 0.67 & 1.81 & 0.13 & 0.20 & ⋯ & 2.95 & 0.00 & 0.07 & 0.00 & 0.13 & 0.20 & 0.07 & 0.94 & NA & 23.44\\\\\n",
       "\\end{tabular}\n"
      ],
      "text/markdown": [
       "\n",
       "A data.frame: 6 × 72\n",
       "\n",
       "| <!--/--> | Filename &lt;chr&gt; | year &lt;int&gt; | Tokens &lt;dbl&gt; | AWL &lt;dbl&gt; | TTR &lt;dbl&gt; | AMP &lt;dbl&gt; | ANDC &lt;dbl&gt; | BEMA &lt;dbl&gt; | BYPA &lt;dbl&gt; | CAUS &lt;dbl&gt; | ⋯ ⋯ | VPRT &lt;dbl&gt; | WHCL &lt;dbl&gt; | WHOBJ &lt;dbl&gt; | WHQU &lt;dbl&gt; | WHSUB &lt;dbl&gt; | WZPAST &lt;dbl&gt; | WZPRES &lt;dbl&gt; | XX0 &lt;dbl&gt; | Unnamed..69 &lt;lgl&gt; | Average_sentence_length &lt;dbl&gt; |\n",
       "|---|---|---|---|---|---|---|---|---|---|---|---|---|---|---|---|---|---|---|---|---|---|\n",
       "| 1 | 1995_manifesto-11 | 1995 | 1500 | 5.14 | 573 | 0.27 | 0.40 | 1.07 | 0.33 | 0.07 | ⋯ | 5.60 | 0.07 | 0.07 | 0.07 | 0.00 | 0.27 | 0.00 | 0.67 | NA | 21.43 |\n",
       "| 2 | 2016_manifesto-12 | 2016 | 1501 | 5.06 | 549 | 0.47 | 0.80 | 1.67 | 0.07 | 0.00 | ⋯ | 5.46 | 0.07 | 0.00 | 0.00 | 0.07 | 0.07 | 0.07 | 0.53 | NA | 28.85 |\n",
       "| 5 | 1995_manifesto-18 | 1995 | 1501 | 5.08 | 541 | 0.20 | 0.60 | 1.80 | 0.07 | 0.60 | ⋯ | 5.86 | 0.13 | 0.00 | 0.00 | 0.13 | 0.13 | 0.13 | 0.53 | NA | 20.83 |\n",
       "| 6 | 1995_manifesto-2  | 1995 | 1506 | 4.95 | 536 | 0.27 | 0.40 | 2.32 | 0.13 | 0.46 | ⋯ | 7.50 | 0.00 | 0.13 | 0.00 | 0.07 | 0.13 | 0.07 | 1.73 | NA | 20.83 |\n",
       "| 7 | 2016_manifesto-24 | 2016 | 1492 | 5.14 | 583 | 0.07 | 0.60 | 2.14 | 0.00 | 0.34 | ⋯ | 4.22 | 0.20 | 0.07 | 0.00 | 0.47 | 0.20 | 0.20 | 0.67 | NA | 27.27 |\n",
       "| 8 | 2016_manifesto-34 | 2016 | 1490 | 5.01 | 535 | 0.07 | 0.67 | 1.81 | 0.13 | 0.20 | ⋯ | 2.95 | 0.00 | 0.07 | 0.00 | 0.13 | 0.20 | 0.07 | 0.94 | NA | 23.44 |\n",
       "\n"
      ],
      "text/plain": [
       "  Filename          year Tokens AWL  TTR AMP  ANDC BEMA BYPA CAUS ⋯ VPRT WHCL\n",
       "1 1995_manifesto-11 1995 1500   5.14 573 0.27 0.40 1.07 0.33 0.07 ⋯ 5.60 0.07\n",
       "2 2016_manifesto-12 2016 1501   5.06 549 0.47 0.80 1.67 0.07 0.00 ⋯ 5.46 0.07\n",
       "5 1995_manifesto-18 1995 1501   5.08 541 0.20 0.60 1.80 0.07 0.60 ⋯ 5.86 0.13\n",
       "6 1995_manifesto-2  1995 1506   4.95 536 0.27 0.40 2.32 0.13 0.46 ⋯ 7.50 0.00\n",
       "7 2016_manifesto-24 2016 1492   5.14 583 0.07 0.60 2.14 0.00 0.34 ⋯ 4.22 0.20\n",
       "8 2016_manifesto-34 2016 1490   5.01 535 0.07 0.67 1.81 0.13 0.20 ⋯ 2.95 0.00\n",
       "  WHOBJ WHQU WHSUB WZPAST WZPRES XX0  Unnamed..69 Average_sentence_length\n",
       "1 0.07  0.07 0.00  0.27   0.00   0.67 NA          21.43                  \n",
       "2 0.00  0.00 0.07  0.07   0.07   0.53 NA          28.85                  \n",
       "5 0.00  0.00 0.13  0.13   0.13   0.53 NA          20.83                  \n",
       "6 0.13  0.00 0.07  0.13   0.07   1.73 NA          20.83                  \n",
       "7 0.07  0.00 0.47  0.20   0.20   0.67 NA          27.27                  \n",
       "8 0.07  0.00 0.13  0.20   0.07   0.94 NA          23.44                  "
      ]
     },
     "metadata": {
      "tags": []
     },
     "output_type": "display_data"
    }
   ],
   "source": [
    "# select dataframe with only 1995 and 2016\n",
    "df_1995_2016 <- df[df$year != 2010, ]\n",
    "head(df_1995_2016)"
   ]
  },
  {
   "cell_type": "code",
   "execution_count": null,
   "metadata": {
    "id": "lDWpAW1dM4qs"
   },
   "outputs": [],
   "source": [
    "df_1995_2016$year <- factor(df_1995_2016$year)\n"
   ]
  },
  {
   "cell_type": "code",
   "execution_count": null,
   "metadata": {
    "id": "0WTf9tZWM4qs",
    "outputId": "afd0475a-6ed8-43fb-f819-84df5397071d",
    "scrolled": true
   },
   "outputs": [
    {
     "name": "stdout",
     "output_type": "stream",
     "text": [
      " Factor w/ 2 levels \"1995\",\"2016\": 1 2 1 1 2 2 2 1 1 2 ...\n"
     ]
    }
   ],
   "source": [
    "# check if factorization worked\n",
    "str(df_1995_2016$year)"
   ]
  },
  {
   "cell_type": "markdown",
   "metadata": {
    "id": "ml48VB7IM4qs"
   },
   "source": [
    "### TTR: type token ratio\n"
   ]
  },
  {
   "cell_type": "code",
   "execution_count": null,
   "metadata": {
    "id": "Plx7OkwKM4qs",
    "outputId": "cefb10ae-579c-498c-962a-4e3e023dd9ca"
   },
   "outputs": [
    {
     "name": "stderr",
     "output_type": "stream",
     "text": [
      "Warning message in wilcox.test.default(x = c(573, 541, 536, 565, 543, 551, 560, :\n",
      "“cannot compute exact p-value with ties”\n"
     ]
    },
    {
     "data": {
      "text/plain": [
       "\n",
       "\tWilcoxon rank sum test with continuity correction\n",
       "\n",
       "data:  df_1995_2016$TTR by df_1995_2016$year\n",
       "W = 219.5, p-value = 0.0003284\n",
       "alternative hypothesis: true location shift is not equal to 0\n"
      ]
     },
     "metadata": {
      "tags": []
     },
     "output_type": "display_data"
    }
   ],
   "source": [
    "wilcox.test(df_1995_2016$TTR~df_1995_2016$year)"
   ]
  },
  {
   "cell_type": "markdown",
   "metadata": {
    "id": "JNl4BY9WM4qt"
   },
   "source": [
    "> p-value < 0.05 --> statistically significant difference in central tendency"
   ]
  },
  {
   "cell_type": "markdown",
   "metadata": {
    "id": "4Q-M6M6tM4qt"
   },
   "source": [
    "### PRMD: Predictive modals (will, shall, ...)"
   ]
  },
  {
   "cell_type": "code",
   "execution_count": null,
   "metadata": {
    "id": "95LLQrMXM4qt",
    "outputId": "d9086b63-3398-4d49-dd1f-03bf3ea80535"
   },
   "outputs": [
    {
     "name": "stderr",
     "output_type": "stream",
     "text": [
      "Warning message in wilcox.test.default(x = c(1, 1.47, 0.27, 1.2, 0.73, 1.66, 0.8, :\n",
      "“cannot compute exact p-value with ties”\n"
     ]
    },
    {
     "data": {
      "text/plain": [
       "\n",
       "\tWilcoxon rank sum test with continuity correction\n",
       "\n",
       "data:  df_1995_2016$PRMD by df_1995_2016$year\n",
       "W = 436, p-value = 0.518\n",
       "alternative hypothesis: true location shift is not equal to 0\n"
      ]
     },
     "metadata": {
      "tags": []
     },
     "output_type": "display_data"
    }
   ],
   "source": [
    "wilcox.test(df_1995_2016$PRMD~df_1995_2016$year)"
   ]
  },
  {
   "cell_type": "markdown",
   "metadata": {
    "id": "AsWHys5HM4qt"
   },
   "source": [
    "> P-value > 0.05 --> no statistically significnat difference in means"
   ]
  },
  {
   "cell_type": "markdown",
   "metadata": {
    "id": "Gfaq8hpZM4qt"
   },
   "source": [
    "### SPP2: Second person pronouns"
   ]
  },
  {
   "cell_type": "code",
   "execution_count": null,
   "metadata": {
    "id": "I_fjtClFM4qu",
    "outputId": "b1c59628-d411-400e-a60a-7f221f5a71c7"
   },
   "outputs": [
    {
     "name": "stderr",
     "output_type": "stream",
     "text": [
      "Warning message in wilcox.test.default(x = c(0.07, 0.27, 0, 0.27, 0.07, 0.46, 0, :\n",
      "“cannot compute exact p-value with ties”\n"
     ]
    },
    {
     "data": {
      "text/plain": [
       "\n",
       "\tWilcoxon rank sum test with continuity correction\n",
       "\n",
       "data:  df_1995_2016$SPP2 by df_1995_2016$year\n",
       "W = 579, p-value = 0.1522\n",
       "alternative hypothesis: true location shift is not equal to 0\n"
      ]
     },
     "metadata": {
      "tags": []
     },
     "output_type": "display_data"
    }
   ],
   "source": [
    "wilcox.test(df_1995_2016$SPP2~df_1995_2016$year)"
   ]
  },
  {
   "cell_type": "markdown",
   "metadata": {
    "id": "9MZr0Rn6M4qu"
   },
   "source": [
    "> p-value > 0.05 --> not statistically significant difference in means in frequency of second person pronouns"
   ]
  },
  {
   "cell_type": "markdown",
   "metadata": {
    "id": "Tjql1VF5M4qu"
   },
   "source": [
    "### FPP1: first person pronouns"
   ]
  },
  {
   "cell_type": "code",
   "execution_count": null,
   "metadata": {
    "id": "wisC_I4PM4qu",
    "outputId": "2fc4b3bf-4d75-4053-b6ad-510f0e179ab9"
   },
   "outputs": [
    {
     "name": "stderr",
     "output_type": "stream",
     "text": [
      "Warning message in wilcox.test.default(x = c(0.67, 0.93, 0.86, 0.4, 1, 0.2, 2.33, :\n",
      "“cannot compute exact p-value with ties”\n"
     ]
    },
    {
     "data": {
      "text/plain": [
       "\n",
       "\tWilcoxon rank sum test with continuity correction\n",
       "\n",
       "data:  df_1995_2016$FPP1 by df_1995_2016$year\n",
       "W = 629.5, p-value = 0.04841\n",
       "alternative hypothesis: true location shift is not equal to 0\n"
      ]
     },
     "metadata": {
      "tags": []
     },
     "output_type": "display_data"
    }
   ],
   "source": [
    "wilcox.test(df_1995_2016$FPP1~df_1995_2016$year)"
   ]
  },
  {
   "cell_type": "markdown",
   "metadata": {
    "id": "lYh11K9FM4qu"
   },
   "source": [
    "> P-value < 0.05 --> slightly statistically significant difference in means of frequency of first person pronouns"
   ]
  },
  {
   "cell_type": "markdown",
   "metadata": {
    "id": "ymoU88KVM4qv"
   },
   "source": [
    "### AWL: Average word length"
   ]
  },
  {
   "cell_type": "code",
   "execution_count": null,
   "metadata": {
    "id": "0mpFvWULM4qv",
    "outputId": "2bd59af5-435d-4211-9062-df61e748e0b5"
   },
   "outputs": [
    {
     "name": "stderr",
     "output_type": "stream",
     "text": [
      "Warning message in wilcox.test.default(x = c(5.14, 5.08, 4.95, 5, 4.91, 5.01, 5.09, :\n",
      "“cannot compute exact p-value with ties”\n"
     ]
    },
    {
     "data": {
      "text/plain": [
       "\n",
       "\tWilcoxon rank sum test with continuity correction\n",
       "\n",
       "data:  df_1995_2016$AWL by df_1995_2016$year\n",
       "W = 228.5, p-value = 0.0005204\n",
       "alternative hypothesis: true location shift is not equal to 0\n"
      ]
     },
     "metadata": {
      "tags": []
     },
     "output_type": "display_data"
    }
   ],
   "source": [
    "wilcox.test(df_1995_2016$AWL~df_1995_2016$year)"
   ]
  },
  {
   "cell_type": "markdown",
   "metadata": {
    "id": "0oh7Xz95M4qv"
   },
   "source": [
    "> p-value < 0.05 --> significant difference in means in average word length "
   ]
  },
  {
   "cell_type": "markdown",
   "metadata": {
    "id": "Sd1aPNbsM4qv"
   },
   "source": [
    "### TPP3: Third person pronouns"
   ]
  },
  {
   "cell_type": "code",
   "execution_count": null,
   "metadata": {
    "id": "RsqnFEzuM4qv",
    "outputId": "609d77cf-b832-42df-dd1d-0eb38df640ce"
   },
   "outputs": [
    {
     "name": "stderr",
     "output_type": "stream",
     "text": [
      "Warning message in wilcox.test.default(x = c(2.73, 2.13, 4.58, 3.06, 4.59, 1.39, :\n",
      "“cannot compute exact p-value with ties”\n"
     ]
    },
    {
     "data": {
      "text/plain": [
       "\n",
       "\tWilcoxon rank sum test with continuity correction\n",
       "\n",
       "data:  df_1995_2016$TPP3 by df_1995_2016$year\n",
       "W = 705, p-value = 0.0027\n",
       "alternative hypothesis: true location shift is not equal to 0\n"
      ]
     },
     "metadata": {
      "tags": []
     },
     "output_type": "display_data"
    }
   ],
   "source": [
    "wilcox.test(df_1995_2016$TPP3~df_1995_2016$year)"
   ]
  },
  {
   "cell_type": "markdown",
   "metadata": {
    "id": "FDzrbrkyM4qw"
   },
   "source": [
    "> p-value < 0.05 --> statistically significant difference in means"
   ]
  },
  {
   "cell_type": "markdown",
   "metadata": {
    "id": "JsGnifwoM4qw"
   },
   "source": [
    "### JJ: attributive adjectives"
   ]
  },
  {
   "cell_type": "code",
   "execution_count": null,
   "metadata": {
    "id": "ZsxVmdx_M4qw",
    "outputId": "6176d5cb-b190-4b4e-9566-a7a5f47d3ae2"
   },
   "outputs": [
    {
     "name": "stderr",
     "output_type": "stream",
     "text": [
      "Warning message in wilcox.test.default(x = c(8.6, 9.06, 9.69, 9.91, 9.51, 10.03, :\n",
      "“cannot compute exact p-value with ties”\n"
     ]
    },
    {
     "data": {
      "text/plain": [
       "\n",
       "\tWilcoxon rank sum test with continuity correction\n",
       "\n",
       "data:  df_1995_2016$JJ by df_1995_2016$year\n",
       "W = 451, p-value = 0.6584\n",
       "alternative hypothesis: true location shift is not equal to 0\n"
      ]
     },
     "metadata": {
      "tags": []
     },
     "output_type": "display_data"
    }
   ],
   "source": [
    "wilcox.test(df_1995_2016$JJ~df_1995_2016$year)"
   ]
  },
  {
   "cell_type": "markdown",
   "metadata": {
    "id": "nu2V38gyM4qw"
   },
   "source": [
    "> p-value > 0.05 --> not statistically significant"
   ]
  },
  {
   "cell_type": "markdown",
   "metadata": {
    "id": "Qo2l1FkcM4qx"
   },
   "source": [
    "### PEAS: Perfect Aspect"
   ]
  },
  {
   "cell_type": "code",
   "execution_count": null,
   "metadata": {
    "id": "8crLzx6YM4qx",
    "outputId": "3f9f7f3c-d8ba-42bd-848e-ab8925686071"
   },
   "outputs": [
    {
     "name": "stderr",
     "output_type": "stream",
     "text": [
      "Warning message in wilcox.test.default(x = c(0.4, 0.27, 0.27, 0.8, 0.6, 0.13, 0.87, :\n",
      "“cannot compute exact p-value with ties”\n"
     ]
    },
    {
     "data": {
      "text/plain": [
       "\n",
       "\tWilcoxon rank sum test with continuity correction\n",
       "\n",
       "data:  df_1995_2016$PEAS by df_1995_2016$year\n",
       "W = 352.5, p-value = 0.07411\n",
       "alternative hypothesis: true location shift is not equal to 0\n"
      ]
     },
     "metadata": {
      "tags": []
     },
     "output_type": "display_data"
    }
   ],
   "source": [
    "wilcox.test(df_1995_2016$PEAS~df_1995_2016$year)"
   ]
  },
  {
   "cell_type": "markdown",
   "metadata": {
    "id": "x7PphUp-M4qx"
   },
   "source": [
    "> p-value > 0.05 --> not statistically significant"
   ]
  },
  {
   "cell_type": "markdown",
   "metadata": {
    "id": "eTUjZgEDM4qy"
   },
   "source": [
    "### THVC: That as verb complement"
   ]
  },
  {
   "cell_type": "code",
   "execution_count": null,
   "metadata": {
    "id": "TzpajkkWM4qy",
    "outputId": "0373964b-7f4e-4d3c-9683-9e42ee60d4b8"
   },
   "outputs": [
    {
     "name": "stderr",
     "output_type": "stream",
     "text": [
      "Warning message in wilcox.test.default(x = c(0.27, 0.6, 0.6, 0.2, 0.4, 0.2, 0.73, :\n",
      "“cannot compute exact p-value with ties”\n"
     ]
    },
    {
     "data": {
      "text/plain": [
       "\n",
       "\tWilcoxon rank sum test with continuity correction\n",
       "\n",
       "data:  df_1995_2016$THVC by df_1995_2016$year\n",
       "W = 362.5, p-value = 0.09784\n",
       "alternative hypothesis: true location shift is not equal to 0\n"
      ]
     },
     "metadata": {
      "tags": []
     },
     "output_type": "display_data"
    }
   ],
   "source": [
    "wilcox.test(df_1995_2016$THVC~df_1995_2016$year)"
   ]
  },
  {
   "cell_type": "markdown",
   "metadata": {
    "id": "7dBHWoEnM4qz"
   },
   "source": [
    "> p-value > 0.05 --> not statistically significant"
   ]
  },
  {
   "cell_type": "markdown",
   "metadata": {
    "id": "RZEDB7Q-M4qz"
   },
   "source": [
    "### VBD: Past tense"
   ]
  },
  {
   "cell_type": "code",
   "execution_count": null,
   "metadata": {
    "id": "Wd9NgBgvM4qz",
    "outputId": "e5b46ec8-aae6-4be8-910c-e77b7ac4805f"
   },
   "outputs": [
    {
     "name": "stderr",
     "output_type": "stream",
     "text": [
      "Warning message in wilcox.test.default(x = c(1.27, 0.6, 0.33, 2.13, 1, 0.93, 0.2, :\n",
      "“cannot compute exact p-value with ties”\n"
     ]
    },
    {
     "data": {
      "text/plain": [
       "\n",
       "\tWilcoxon rank sum test with continuity correction\n",
       "\n",
       "data:  df_1995_2016$VBD by df_1995_2016$year\n",
       "W = 227, p-value = 0.0004826\n",
       "alternative hypothesis: true location shift is not equal to 0\n"
      ]
     },
     "metadata": {
      "tags": []
     },
     "output_type": "display_data"
    }
   ],
   "source": [
    "wilcox.test(df_1995_2016$VBD~df_1995_2016$year)"
   ]
  },
  {
   "cell_type": "markdown",
   "metadata": {
    "id": "89HwvXXbM4q0"
   },
   "source": [
    "> p-value < 0.05 --> statistically significant"
   ]
  },
  {
   "cell_type": "markdown",
   "metadata": {
    "id": "RuR7R6ZYM4q0"
   },
   "source": [
    "### ASL: Average sentence length"
   ]
  },
  {
   "cell_type": "code",
   "execution_count": null,
   "metadata": {
    "id": "mC3_xwD1M4q0",
    "outputId": "d5a8d953-261c-4919-c4cd-8ec18b38db14"
   },
   "outputs": [
    {
     "name": "stderr",
     "output_type": "stream",
     "text": [
      "Warning message in wilcox.test.default(x = c(21.43, 20.83, 20.83, 21.13, 21.74, :\n",
      "“cannot compute exact p-value with ties”\n"
     ]
    },
    {
     "data": {
      "text/plain": [
       "\n",
       "\tWilcoxon rank sum test with continuity correction\n",
       "\n",
       "data:  df_1995_2016$Average_sentence_length by df_1995_2016$year\n",
       "W = 227.5, p-value = 0.0004929\n",
       "alternative hypothesis: true location shift is not equal to 0\n"
      ]
     },
     "metadata": {
      "tags": []
     },
     "output_type": "display_data"
    }
   ],
   "source": [
    "wilcox.test(df_1995_2016$Average_sentence_length~df_1995_2016$year)"
   ]
  },
  {
   "cell_type": "markdown",
   "metadata": {
    "id": "QZD3LlsPM4q0"
   },
   "source": [
    "> p-value < 0.05 --> statistically significant"
   ]
  },
  {
   "cell_type": "markdown",
   "metadata": {
    "id": "ZPtwhFiNM4q0"
   },
   "source": [
    "### COND: Conditionals"
   ]
  },
  {
   "cell_type": "code",
   "execution_count": null,
   "metadata": {
    "id": "9uESCt7TM4q1",
    "outputId": "e8e50612-ef23-4ebe-9749-8b67ea9fd91b"
   },
   "outputs": [
    {
     "name": "stderr",
     "output_type": "stream",
     "text": [
      "Warning message in wilcox.test.default(x = c(0.27, 0.73, 0.6, 0.33, 0.8, 0.53, 0.27, :\n",
      "“cannot compute exact p-value with ties”\n"
     ]
    },
    {
     "data": {
      "text/plain": [
       "\n",
       "\tWilcoxon rank sum test with continuity correction\n",
       "\n",
       "data:  df_1995_2016$COND by df_1995_2016$year\n",
       "W = 592.5, p-value = 0.1402\n",
       "alternative hypothesis: true location shift is not equal to 0\n"
      ]
     },
     "metadata": {
      "tags": []
     },
     "output_type": "display_data"
    }
   ],
   "source": [
    "wilcox.test(df_1995_2016$COND~df_1995_2016$year)"
   ]
  },
  {
   "cell_type": "markdown",
   "metadata": {
    "id": "ztPf_YFzM4q1"
   },
   "source": [
    "> p-value > 0.05 --> not statistically significant"
   ]
  },
  {
   "cell_type": "markdown",
   "metadata": {
    "id": "KpBQQuH9M4q1"
   },
   "source": [
    "### CONC: Concessives"
   ]
  },
  {
   "cell_type": "code",
   "execution_count": null,
   "metadata": {
    "id": "_w2jygCzM4q1",
    "outputId": "41ca5e80-b1fc-46ce-c886-2dbe4d38cb91"
   },
   "outputs": [
    {
     "name": "stderr",
     "output_type": "stream",
     "text": [
      "Warning message in wilcox.test.default(x = c(0, 0, 0, 0, 0.2, 0, 0.07, 0, 0, 0.07, :\n",
      "“cannot compute exact p-value with ties”\n"
     ]
    },
    {
     "data": {
      "text/plain": [
       "\n",
       "\tWilcoxon rank sum test with continuity correction\n",
       "\n",
       "data:  df_1995_2016$CONC by df_1995_2016$year\n",
       "W = 277.5, p-value = 0.002785\n",
       "alternative hypothesis: true location shift is not equal to 0\n"
      ]
     },
     "metadata": {
      "tags": []
     },
     "output_type": "display_data"
    }
   ],
   "source": [
    "wilcox.test(df_1995_2016$CONC~df_1995_2016$year)"
   ]
  },
  {
   "cell_type": "markdown",
   "metadata": {
    "id": "jlEoRAlAM4q1"
   },
   "source": [
    "> p-value < 0.05 --> statistically significant"
   ]
  },
  {
   "cell_type": "markdown",
   "metadata": {
    "id": "3tD7cQhbM4q2"
   },
   "source": [
    "# 3. Statistical analysis\n",
    "Because 1995 and 2010 are practically the same  manifesto, with some minor changes, we choose to run a binomial generalized linear model on 2016 vs. \"1995\". "
   ]
  },
  {
   "cell_type": "code",
   "execution_count": null,
   "metadata": {
    "id": "WbTv21wdM4q2",
    "outputId": "75b1b017-8204-435f-a5cb-9ae74d43b1bc"
   },
   "outputs": [
    {
     "name": "stderr",
     "output_type": "stream",
     "text": [
      "Loading required package: Matrix\n",
      "\n",
      "Loading required package: carData\n",
      "\n",
      "Registered S3 methods overwritten by 'car':\n",
      "  method                          from\n",
      "  influence.merMod                lme4\n",
      "  cooks.distance.influence.merMod lme4\n",
      "  dfbeta.influence.merMod         lme4\n",
      "  dfbetas.influence.merMod        lme4\n",
      "\n",
      "lattice theme set by effectsTheme()\n",
      "See ?effectsTheme for details.\n",
      "\n"
     ]
    }
   ],
   "source": [
    "# loading modules\n",
    "library(lme4)\n",
    "library(car)\n",
    "library(effects)"
   ]
  },
  {
   "cell_type": "code",
   "execution_count": null,
   "metadata": {
    "id": "dtlEp-1YM4q2",
    "outputId": "802737ab-136a-4242-8b46-00377c26480a"
   },
   "outputs": [
    {
     "data": {
      "text/html": [
       "<table>\n",
       "<caption>A data.frame: 6 × 72</caption>\n",
       "<thead>\n",
       "\t<tr><th></th><th scope=col>Filename</th><th scope=col>year</th><th scope=col>Tokens</th><th scope=col>AWL</th><th scope=col>TTR</th><th scope=col>AMP</th><th scope=col>ANDC</th><th scope=col>BEMA</th><th scope=col>BYPA</th><th scope=col>CAUS</th><th scope=col>⋯</th><th scope=col>VPRT</th><th scope=col>WHCL</th><th scope=col>WHOBJ</th><th scope=col>WHQU</th><th scope=col>WHSUB</th><th scope=col>WZPAST</th><th scope=col>WZPRES</th><th scope=col>XX0</th><th scope=col>Unnamed..69</th><th scope=col>Average_sentence_length</th></tr>\n",
       "\t<tr><th></th><th scope=col>&lt;chr&gt;</th><th scope=col>&lt;int&gt;</th><th scope=col>&lt;dbl&gt;</th><th scope=col>&lt;dbl&gt;</th><th scope=col>&lt;dbl&gt;</th><th scope=col>&lt;dbl&gt;</th><th scope=col>&lt;dbl&gt;</th><th scope=col>&lt;dbl&gt;</th><th scope=col>&lt;dbl&gt;</th><th scope=col>&lt;dbl&gt;</th><th scope=col>⋯</th><th scope=col>&lt;dbl&gt;</th><th scope=col>&lt;dbl&gt;</th><th scope=col>&lt;dbl&gt;</th><th scope=col>&lt;dbl&gt;</th><th scope=col>&lt;dbl&gt;</th><th scope=col>&lt;dbl&gt;</th><th scope=col>&lt;dbl&gt;</th><th scope=col>&lt;dbl&gt;</th><th scope=col>&lt;lgl&gt;</th><th scope=col>&lt;dbl&gt;</th></tr>\n",
       "</thead>\n",
       "<tbody>\n",
       "\t<tr><th scope=row>1</th><td>1995_manifesto-11</td><td>1995</td><td>1500</td><td>5.14</td><td>573</td><td>0.27</td><td>0.4</td><td>1.07</td><td>0.33</td><td>0.07</td><td>⋯</td><td>5.60</td><td>0.07</td><td>0.07</td><td>0.07</td><td>0.00</td><td>0.27</td><td>0.00</td><td>0.67</td><td>NA</td><td>21.43</td></tr>\n",
       "\t<tr><th scope=row>2</th><td>2016_manifesto-12</td><td>2016</td><td>1501</td><td>5.06</td><td>549</td><td>0.47</td><td>0.8</td><td>1.67</td><td>0.07</td><td>0.00</td><td>⋯</td><td>5.46</td><td>0.07</td><td>0.00</td><td>0.00</td><td>0.07</td><td>0.07</td><td>0.07</td><td>0.53</td><td>NA</td><td>28.85</td></tr>\n",
       "\t<tr><th scope=row>3</th><td>2010_manifesto-12</td><td>2010</td><td>1501</td><td>5.11</td><td>574</td><td>0.20</td><td>0.6</td><td>1.93</td><td>0.20</td><td>0.20</td><td>⋯</td><td>6.26</td><td>0.07</td><td>0.00</td><td>0.00</td><td>0.20</td><td>0.00</td><td>0.20</td><td>0.47</td><td>NA</td><td>22.39</td></tr>\n",
       "\t<tr><th scope=row>4</th><td>2010_manifesto-3 </td><td>2010</td><td>1506</td><td>4.89</td><td>557</td><td>0.13</td><td>0.6</td><td>1.93</td><td>0.07</td><td>0.27</td><td>⋯</td><td>6.44</td><td>0.00</td><td>0.13</td><td>0.00</td><td>0.13</td><td>0.00</td><td>0.20</td><td>1.13</td><td>NA</td><td>21.74</td></tr>\n",
       "\t<tr><th scope=row>5</th><td>1995_manifesto-18</td><td>1995</td><td>1501</td><td>5.08</td><td>541</td><td>0.20</td><td>0.6</td><td>1.80</td><td>0.07</td><td>0.60</td><td>⋯</td><td>5.86</td><td>0.13</td><td>0.00</td><td>0.00</td><td>0.13</td><td>0.13</td><td>0.13</td><td>0.53</td><td>NA</td><td>20.83</td></tr>\n",
       "\t<tr><th scope=row>6</th><td>1995_manifesto-2 </td><td>1995</td><td>1506</td><td>4.95</td><td>536</td><td>0.27</td><td>0.4</td><td>2.32</td><td>0.13</td><td>0.46</td><td>⋯</td><td>7.50</td><td>0.00</td><td>0.13</td><td>0.00</td><td>0.07</td><td>0.13</td><td>0.07</td><td>1.73</td><td>NA</td><td>20.83</td></tr>\n",
       "</tbody>\n",
       "</table>\n"
      ],
      "text/latex": [
       "A data.frame: 6 × 72\n",
       "\\begin{tabular}{r|lllllllllllllllllllll}\n",
       "  & Filename & year & Tokens & AWL & TTR & AMP & ANDC & BEMA & BYPA & CAUS & ⋯ & VPRT & WHCL & WHOBJ & WHQU & WHSUB & WZPAST & WZPRES & XX0 & Unnamed..69 & Average\\_sentence\\_length\\\\\n",
       "  & <chr> & <int> & <dbl> & <dbl> & <dbl> & <dbl> & <dbl> & <dbl> & <dbl> & <dbl> & ⋯ & <dbl> & <dbl> & <dbl> & <dbl> & <dbl> & <dbl> & <dbl> & <dbl> & <lgl> & <dbl>\\\\\n",
       "\\hline\n",
       "\t1 & 1995\\_manifesto-11 & 1995 & 1500 & 5.14 & 573 & 0.27 & 0.4 & 1.07 & 0.33 & 0.07 & ⋯ & 5.60 & 0.07 & 0.07 & 0.07 & 0.00 & 0.27 & 0.00 & 0.67 & NA & 21.43\\\\\n",
       "\t2 & 2016\\_manifesto-12 & 2016 & 1501 & 5.06 & 549 & 0.47 & 0.8 & 1.67 & 0.07 & 0.00 & ⋯ & 5.46 & 0.07 & 0.00 & 0.00 & 0.07 & 0.07 & 0.07 & 0.53 & NA & 28.85\\\\\n",
       "\t3 & 2010\\_manifesto-12 & 2010 & 1501 & 5.11 & 574 & 0.20 & 0.6 & 1.93 & 0.20 & 0.20 & ⋯ & 6.26 & 0.07 & 0.00 & 0.00 & 0.20 & 0.00 & 0.20 & 0.47 & NA & 22.39\\\\\n",
       "\t4 & 2010\\_manifesto-3  & 2010 & 1506 & 4.89 & 557 & 0.13 & 0.6 & 1.93 & 0.07 & 0.27 & ⋯ & 6.44 & 0.00 & 0.13 & 0.00 & 0.13 & 0.00 & 0.20 & 1.13 & NA & 21.74\\\\\n",
       "\t5 & 1995\\_manifesto-18 & 1995 & 1501 & 5.08 & 541 & 0.20 & 0.6 & 1.80 & 0.07 & 0.60 & ⋯ & 5.86 & 0.13 & 0.00 & 0.00 & 0.13 & 0.13 & 0.13 & 0.53 & NA & 20.83\\\\\n",
       "\t6 & 1995\\_manifesto-2  & 1995 & 1506 & 4.95 & 536 & 0.27 & 0.4 & 2.32 & 0.13 & 0.46 & ⋯ & 7.50 & 0.00 & 0.13 & 0.00 & 0.07 & 0.13 & 0.07 & 1.73 & NA & 20.83\\\\\n",
       "\\end{tabular}\n"
      ],
      "text/markdown": [
       "\n",
       "A data.frame: 6 × 72\n",
       "\n",
       "| <!--/--> | Filename &lt;chr&gt; | year &lt;int&gt; | Tokens &lt;dbl&gt; | AWL &lt;dbl&gt; | TTR &lt;dbl&gt; | AMP &lt;dbl&gt; | ANDC &lt;dbl&gt; | BEMA &lt;dbl&gt; | BYPA &lt;dbl&gt; | CAUS &lt;dbl&gt; | ⋯ ⋯ | VPRT &lt;dbl&gt; | WHCL &lt;dbl&gt; | WHOBJ &lt;dbl&gt; | WHQU &lt;dbl&gt; | WHSUB &lt;dbl&gt; | WZPAST &lt;dbl&gt; | WZPRES &lt;dbl&gt; | XX0 &lt;dbl&gt; | Unnamed..69 &lt;lgl&gt; | Average_sentence_length &lt;dbl&gt; |\n",
       "|---|---|---|---|---|---|---|---|---|---|---|---|---|---|---|---|---|---|---|---|---|---|\n",
       "| 1 | 1995_manifesto-11 | 1995 | 1500 | 5.14 | 573 | 0.27 | 0.4 | 1.07 | 0.33 | 0.07 | ⋯ | 5.60 | 0.07 | 0.07 | 0.07 | 0.00 | 0.27 | 0.00 | 0.67 | NA | 21.43 |\n",
       "| 2 | 2016_manifesto-12 | 2016 | 1501 | 5.06 | 549 | 0.47 | 0.8 | 1.67 | 0.07 | 0.00 | ⋯ | 5.46 | 0.07 | 0.00 | 0.00 | 0.07 | 0.07 | 0.07 | 0.53 | NA | 28.85 |\n",
       "| 3 | 2010_manifesto-12 | 2010 | 1501 | 5.11 | 574 | 0.20 | 0.6 | 1.93 | 0.20 | 0.20 | ⋯ | 6.26 | 0.07 | 0.00 | 0.00 | 0.20 | 0.00 | 0.20 | 0.47 | NA | 22.39 |\n",
       "| 4 | 2010_manifesto-3  | 2010 | 1506 | 4.89 | 557 | 0.13 | 0.6 | 1.93 | 0.07 | 0.27 | ⋯ | 6.44 | 0.00 | 0.13 | 0.00 | 0.13 | 0.00 | 0.20 | 1.13 | NA | 21.74 |\n",
       "| 5 | 1995_manifesto-18 | 1995 | 1501 | 5.08 | 541 | 0.20 | 0.6 | 1.80 | 0.07 | 0.60 | ⋯ | 5.86 | 0.13 | 0.00 | 0.00 | 0.13 | 0.13 | 0.13 | 0.53 | NA | 20.83 |\n",
       "| 6 | 1995_manifesto-2  | 1995 | 1506 | 4.95 | 536 | 0.27 | 0.4 | 2.32 | 0.13 | 0.46 | ⋯ | 7.50 | 0.00 | 0.13 | 0.00 | 0.07 | 0.13 | 0.07 | 1.73 | NA | 20.83 |\n",
       "\n"
      ],
      "text/plain": [
       "  Filename          year Tokens AWL  TTR AMP  ANDC BEMA BYPA CAUS ⋯ VPRT WHCL\n",
       "1 1995_manifesto-11 1995 1500   5.14 573 0.27 0.4  1.07 0.33 0.07 ⋯ 5.60 0.07\n",
       "2 2016_manifesto-12 2016 1501   5.06 549 0.47 0.8  1.67 0.07 0.00 ⋯ 5.46 0.07\n",
       "3 2010_manifesto-12 2010 1501   5.11 574 0.20 0.6  1.93 0.20 0.20 ⋯ 6.26 0.07\n",
       "4 2010_manifesto-3  2010 1506   4.89 557 0.13 0.6  1.93 0.07 0.27 ⋯ 6.44 0.00\n",
       "5 1995_manifesto-18 1995 1501   5.08 541 0.20 0.6  1.80 0.07 0.60 ⋯ 5.86 0.13\n",
       "6 1995_manifesto-2  1995 1506   4.95 536 0.27 0.4  2.32 0.13 0.46 ⋯ 7.50 0.00\n",
       "  WHOBJ WHQU WHSUB WZPAST WZPRES XX0  Unnamed..69 Average_sentence_length\n",
       "1 0.07  0.07 0.00  0.27   0.00   0.67 NA          21.43                  \n",
       "2 0.00  0.00 0.07  0.07   0.07   0.53 NA          28.85                  \n",
       "3 0.00  0.00 0.20  0.00   0.20   0.47 NA          22.39                  \n",
       "4 0.13  0.00 0.13  0.00   0.20   1.13 NA          21.74                  \n",
       "5 0.00  0.00 0.13  0.13   0.13   0.53 NA          20.83                  \n",
       "6 0.13  0.00 0.07  0.13   0.07   1.73 NA          20.83                  "
      ]
     },
     "metadata": {
      "tags": []
     },
     "output_type": "display_data"
    }
   ],
   "source": [
    "df <- read.csv(\"/Users/Documents/dta/CLS/CLS_final/chunks_1500/chunks_1500_stats.csv\")\n",
    "df$texts <- NULL\n",
    "df$years <- NULL\n",
    "head(df)"
   ]
  },
  {
   "cell_type": "code",
   "execution_count": null,
   "metadata": {
    "id": "oSPLchRRM4q2",
    "outputId": "2898cd45-f5f5-41a5-de97-0312400a1801"
   },
   "outputs": [
    {
     "name": "stdout",
     "output_type": "stream",
     "text": [
      " Factor w/ 2 levels \"1995\",\"2016\": 1 2 1 1 2 2 2 1 1 2 ...\n"
     ]
    }
   ],
   "source": [
    "# create factor with 2 levels : 2016 and not-2016\n",
    "df_1995_2016 <- df[df$year != 2010, ]\n",
    "df_1995_2016$year <- as.factor(df_1995_2016$year)\n",
    "\n",
    "# make sure that 1995 is reference level for the models\n",
    "df_1995_2016$year <- relevel(df_1995_2016$year, ref='1995')\n",
    "str(df_1995_2016$year)"
   ]
  },
  {
   "cell_type": "code",
   "execution_count": null,
   "metadata": {
    "id": "C9BwpHbeM4q3"
   },
   "outputs": [],
   "source": [
    "#(df_1995_2016)"
   ]
  },
  {
   "cell_type": "code",
   "execution_count": null,
   "metadata": {
    "id": "tVu8bpp1M4q3",
    "outputId": "e3ab9e57-80bc-4100-e541-7772b7e30d38"
   },
   "outputs": [
    {
     "data": {
      "text/plain": [
       "\n",
       "Call:\n",
       "glm(formula = year ~ TTR + FPP1 + AWL + TPP3 + VBD + Average_sentence_length + \n",
       "    CONC, family = binomial, data = df_1995_2016)\n",
       "\n",
       "Deviance Residuals: \n",
       "     Min        1Q    Median        3Q       Max  \n",
       "-2.60160  -0.13967   0.00738   0.11076   1.71136  \n",
       "\n",
       "Coefficients:\n",
       "                         Estimate Std. Error z value Pr(>|z|)  \n",
       "(Intercept)             -94.50467   40.29391  -2.345   0.0190 *\n",
       "TTR                       0.04156    0.02633   1.578   0.1145  \n",
       "FPP1                      1.33900    1.49226   0.897   0.3696  \n",
       "AWL                      11.60261    6.29830   1.842   0.0654 .\n",
       "TPP3                     -2.11695    1.03517  -2.045   0.0409 *\n",
       "VBD                       2.23863    0.89297   2.507   0.0122 *\n",
       "Average_sentence_length   0.50342    0.25189   1.999   0.0457 *\n",
       "CONC                     28.47368   15.31548   1.859   0.0630 .\n",
       "---\n",
       "Signif. codes:  0 ‘***’ 0.001 ‘**’ 0.01 ‘*’ 0.05 ‘.’ 0.1 ‘ ’ 1\n",
       "\n",
       "(Dispersion parameter for binomial family taken to be 1)\n",
       "\n",
       "    Null deviance: 84.02  on 65  degrees of freedom\n",
       "Residual deviance: 20.46  on 58  degrees of freedom\n",
       "AIC: 36.46\n",
       "\n",
       "Number of Fisher Scoring iterations: 8\n"
      ]
     },
     "metadata": {
      "tags": []
     },
     "output_type": "display_data"
    }
   ],
   "source": [
    "# define glm model\n",
    "model <- glm(year ~ TTR + FPP1 + AWL + TPP3 + VBD + Average_sentence_length + CONC, \n",
    "             data = df_1995_2016, family = binomial)\n",
    "\n",
    "# inspect the directions of the correlations\n",
    "summary(model)"
   ]
  },
  {
   "cell_type": "code",
   "execution_count": null,
   "metadata": {
    "id": "2AhwQJfeM4q3",
    "outputId": "f8c15b26-aebc-4a72-9e97-f4244c9ffdb2"
   },
   "outputs": [
    {
     "data": {
      "text/html": [
       "TRUE"
      ],
      "text/latex": [
       "TRUE"
      ],
      "text/markdown": [
       "TRUE"
      ],
      "text/plain": [
       "[1] TRUE"
      ]
     },
     "metadata": {
      "tags": []
     },
     "output_type": "display_data"
    }
   ],
   "source": [
    "# checking for overdispersion ==> no overdispersion\n",
    "20.46/58 <= 1.4"
   ]
  },
  {
   "cell_type": "code",
   "execution_count": null,
   "metadata": {
    "id": "Y_PKGNZ-M4q3",
    "outputId": "38cee549-15cd-4db1-bbb4-d787ac4c734f"
   },
   "outputs": [
    {
     "data": {
      "text/html": [
       "<table>\n",
       "<caption>A matrix: 8 × 4 of type dbl</caption>\n",
       "<thead>\n",
       "\t<tr><th></th><th scope=col>Estimate</th><th scope=col>Std. Error</th><th scope=col>z value</th><th scope=col>Pr(&gt;|z|)</th></tr>\n",
       "</thead>\n",
       "<tbody>\n",
       "\t<tr><th scope=row>(Intercept)</th><td>-94.50467268</td><td>40.29391069</td><td>-2.3453835</td><td>0.01900752</td></tr>\n",
       "\t<tr><th scope=row>TTR</th><td>  0.04156127</td><td> 0.02633048</td><td> 1.5784472</td><td>0.11446292</td></tr>\n",
       "\t<tr><th scope=row>FPP1</th><td>  1.33900006</td><td> 1.49226203</td><td> 0.8972955</td><td>0.36956124</td></tr>\n",
       "\t<tr><th scope=row>AWL</th><td> 11.60261071</td><td> 6.29830215</td><td> 1.8421807</td><td>0.06544872</td></tr>\n",
       "\t<tr><th scope=row>TPP3</th><td> -2.11694828</td><td> 1.03517461</td><td>-2.0450156</td><td>0.04085332</td></tr>\n",
       "\t<tr><th scope=row>VBD</th><td>  2.23863076</td><td> 0.89297040</td><td> 2.5069485</td><td>0.01217785</td></tr>\n",
       "\t<tr><th scope=row>Average_sentence_length</th><td>  0.50342425</td><td> 0.25188943</td><td> 1.9985922</td><td>0.04565250</td></tr>\n",
       "\t<tr><th scope=row>CONC</th><td> 28.47367961</td><td>15.31548037</td><td> 1.8591437</td><td>0.06300677</td></tr>\n",
       "</tbody>\n",
       "</table>\n"
      ],
      "text/latex": [
       "A matrix: 8 × 4 of type dbl\n",
       "\\begin{tabular}{r|llll}\n",
       "  & Estimate & Std. Error & z value & Pr(>\\textbar{}z\\textbar{})\\\\\n",
       "\\hline\n",
       "\t(Intercept) & -94.50467268 & 40.29391069 & -2.3453835 & 0.01900752\\\\\n",
       "\tTTR &   0.04156127 &  0.02633048 &  1.5784472 & 0.11446292\\\\\n",
       "\tFPP1 &   1.33900006 &  1.49226203 &  0.8972955 & 0.36956124\\\\\n",
       "\tAWL &  11.60261071 &  6.29830215 &  1.8421807 & 0.06544872\\\\\n",
       "\tTPP3 &  -2.11694828 &  1.03517461 & -2.0450156 & 0.04085332\\\\\n",
       "\tVBD &   2.23863076 &  0.89297040 &  2.5069485 & 0.01217785\\\\\n",
       "\tAverage\\_sentence\\_length &   0.50342425 &  0.25188943 &  1.9985922 & 0.04565250\\\\\n",
       "\tCONC &  28.47367961 & 15.31548037 &  1.8591437 & 0.06300677\\\\\n",
       "\\end{tabular}\n"
      ],
      "text/markdown": [
       "\n",
       "A matrix: 8 × 4 of type dbl\n",
       "\n",
       "| <!--/--> | Estimate | Std. Error | z value | Pr(&gt;|z|) |\n",
       "|---|---|---|---|---|\n",
       "| (Intercept) | -94.50467268 | 40.29391069 | -2.3453835 | 0.01900752 |\n",
       "| TTR |   0.04156127 |  0.02633048 |  1.5784472 | 0.11446292 |\n",
       "| FPP1 |   1.33900006 |  1.49226203 |  0.8972955 | 0.36956124 |\n",
       "| AWL |  11.60261071 |  6.29830215 |  1.8421807 | 0.06544872 |\n",
       "| TPP3 |  -2.11694828 |  1.03517461 | -2.0450156 | 0.04085332 |\n",
       "| VBD |   2.23863076 |  0.89297040 |  2.5069485 | 0.01217785 |\n",
       "| Average_sentence_length |   0.50342425 |  0.25188943 |  1.9985922 | 0.04565250 |\n",
       "| CONC |  28.47367961 | 15.31548037 |  1.8591437 | 0.06300677 |\n",
       "\n"
      ],
      "text/plain": [
       "                        Estimate     Std. Error  z value    Pr(>|z|)  \n",
       "(Intercept)             -94.50467268 40.29391069 -2.3453835 0.01900752\n",
       "TTR                       0.04156127  0.02633048  1.5784472 0.11446292\n",
       "FPP1                      1.33900006  1.49226203  0.8972955 0.36956124\n",
       "AWL                      11.60261071  6.29830215  1.8421807 0.06544872\n",
       "TPP3                     -2.11694828  1.03517461 -2.0450156 0.04085332\n",
       "VBD                       2.23863076  0.89297040  2.5069485 0.01217785\n",
       "Average_sentence_length   0.50342425  0.25188943  1.9985922 0.04565250\n",
       "CONC                     28.47367961 15.31548037  1.8591437 0.06300677"
      ]
     },
     "metadata": {
      "tags": []
     },
     "output_type": "display_data"
    }
   ],
   "source": [
    "# inspect directions of correlations\n",
    "summary(model)$coef"
   ]
  },
  {
   "cell_type": "code",
   "execution_count": null,
   "metadata": {
    "id": "vsNApJVgM4q4",
    "outputId": "502767b3-2a5c-48e3-fe63-4a34a864c3a2"
   },
   "outputs": [
    {
     "data": {
      "text/html": [
       "<table>\n",
       "<caption>A anova: 8 × 5</caption>\n",
       "<thead>\n",
       "\t<tr><th></th><th scope=col>Df</th><th scope=col>Deviance</th><th scope=col>AIC</th><th scope=col>LRT</th><th scope=col>Pr(&gt;Chi)</th></tr>\n",
       "\t<tr><th></th><th scope=col>&lt;dbl&gt;</th><th scope=col>&lt;dbl&gt;</th><th scope=col>&lt;dbl&gt;</th><th scope=col>&lt;dbl&gt;</th><th scope=col>&lt;dbl&gt;</th></tr>\n",
       "</thead>\n",
       "<tbody>\n",
       "\t<tr><th scope=row>&lt;none&gt;</th><td>NA</td><td>20.46008</td><td>36.46008</td><td>        NA</td><td>          NA</td></tr>\n",
       "\t<tr><th scope=row>TTR</th><td> 1</td><td>23.52243</td><td>37.52243</td><td> 3.0623469</td><td>0.0801258639</td></tr>\n",
       "\t<tr><th scope=row>FPP1</th><td> 1</td><td>21.32705</td><td>35.32705</td><td> 0.8669679</td><td>0.3517961046</td></tr>\n",
       "\t<tr><th scope=row>AWL</th><td> 1</td><td>26.15829</td><td>40.15829</td><td> 5.6982063</td><td>0.0169822595</td></tr>\n",
       "\t<tr><th scope=row>TPP3</th><td> 1</td><td>28.58392</td><td>42.58392</td><td> 8.1238403</td><td>0.0043686920</td></tr>\n",
       "\t<tr><th scope=row>VBD</th><td> 1</td><td>34.66402</td><td>48.66402</td><td>14.2039357</td><td>0.0001640271</td></tr>\n",
       "\t<tr><th scope=row>Average_sentence_length</th><td> 1</td><td>27.02159</td><td>41.02159</td><td> 6.5615053</td><td>0.0104208181</td></tr>\n",
       "\t<tr><th scope=row>CONC</th><td> 1</td><td>26.07887</td><td>40.07887</td><td> 5.6187914</td><td>0.0177688986</td></tr>\n",
       "</tbody>\n",
       "</table>\n"
      ],
      "text/latex": [
       "A anova: 8 × 5\n",
       "\\begin{tabular}{r|lllll}\n",
       "  & Df & Deviance & AIC & LRT & Pr(>Chi)\\\\\n",
       "  & <dbl> & <dbl> & <dbl> & <dbl> & <dbl>\\\\\n",
       "\\hline\n",
       "\t<none> & NA & 20.46008 & 36.46008 &         NA &           NA\\\\\n",
       "\tTTR &  1 & 23.52243 & 37.52243 &  3.0623469 & 0.0801258639\\\\\n",
       "\tFPP1 &  1 & 21.32705 & 35.32705 &  0.8669679 & 0.3517961046\\\\\n",
       "\tAWL &  1 & 26.15829 & 40.15829 &  5.6982063 & 0.0169822595\\\\\n",
       "\tTPP3 &  1 & 28.58392 & 42.58392 &  8.1238403 & 0.0043686920\\\\\n",
       "\tVBD &  1 & 34.66402 & 48.66402 & 14.2039357 & 0.0001640271\\\\\n",
       "\tAverage\\_sentence\\_length &  1 & 27.02159 & 41.02159 &  6.5615053 & 0.0104208181\\\\\n",
       "\tCONC &  1 & 26.07887 & 40.07887 &  5.6187914 & 0.0177688986\\\\\n",
       "\\end{tabular}\n"
      ],
      "text/markdown": [
       "\n",
       "A anova: 8 × 5\n",
       "\n",
       "| <!--/--> | Df &lt;dbl&gt; | Deviance &lt;dbl&gt; | AIC &lt;dbl&gt; | LRT &lt;dbl&gt; | Pr(&gt;Chi) &lt;dbl&gt; |\n",
       "|---|---|---|---|---|---|\n",
       "| &lt;none&gt; | NA | 20.46008 | 36.46008 |         NA |           NA |\n",
       "| TTR |  1 | 23.52243 | 37.52243 |  3.0623469 | 0.0801258639 |\n",
       "| FPP1 |  1 | 21.32705 | 35.32705 |  0.8669679 | 0.3517961046 |\n",
       "| AWL |  1 | 26.15829 | 40.15829 |  5.6982063 | 0.0169822595 |\n",
       "| TPP3 |  1 | 28.58392 | 42.58392 |  8.1238403 | 0.0043686920 |\n",
       "| VBD |  1 | 34.66402 | 48.66402 | 14.2039357 | 0.0001640271 |\n",
       "| Average_sentence_length |  1 | 27.02159 | 41.02159 |  6.5615053 | 0.0104208181 |\n",
       "| CONC |  1 | 26.07887 | 40.07887 |  5.6187914 | 0.0177688986 |\n",
       "\n"
      ],
      "text/plain": [
       "                        Df Deviance AIC      LRT        Pr(>Chi)    \n",
       "<none>                  NA 20.46008 36.46008         NA           NA\n",
       "TTR                      1 23.52243 37.52243  3.0623469 0.0801258639\n",
       "FPP1                     1 21.32705 35.32705  0.8669679 0.3517961046\n",
       "AWL                      1 26.15829 40.15829  5.6982063 0.0169822595\n",
       "TPP3                     1 28.58392 42.58392  8.1238403 0.0043686920\n",
       "VBD                      1 34.66402 48.66402 14.2039357 0.0001640271\n",
       "Average_sentence_length  1 27.02159 41.02159  6.5615053 0.0104208181\n",
       "CONC                     1 26.07887 40.07887  5.6187914 0.0177688986"
      ]
     },
     "metadata": {
      "tags": []
     },
     "output_type": "display_data"
    }
   ],
   "source": [
    "# check drop1 to see which predictors are significant\n",
    "drop1(model, test=\"LR\")"
   ]
  },
  {
   "cell_type": "code",
   "execution_count": null,
   "metadata": {
    "id": "6pneUM8BM4q4",
    "outputId": "16e1379c-a6fc-4e92-bf89-47fb84d7e1c6"
   },
   "outputs": [
    {
     "data": {
      "text/html": [
       "<table>\n",
       "<caption>A matrix: 8 × 4 of type dbl</caption>\n",
       "<thead>\n",
       "\t<tr><th></th><th scope=col>Estimate</th><th scope=col>Std. Error</th><th scope=col>z value</th><th scope=col>Pr(&gt;|z|)</th></tr>\n",
       "</thead>\n",
       "<tbody>\n",
       "\t<tr><th scope=row>(Intercept)</th><td>-94.50467268</td><td>40.29391069</td><td>-2.3453835</td><td>0.01900752</td></tr>\n",
       "\t<tr><th scope=row>TTR</th><td>  0.04156127</td><td> 0.02633048</td><td> 1.5784472</td><td>0.11446292</td></tr>\n",
       "\t<tr><th scope=row>FPP1</th><td>  1.33900006</td><td> 1.49226203</td><td> 0.8972955</td><td>0.36956124</td></tr>\n",
       "\t<tr><th scope=row>AWL</th><td> 11.60261071</td><td> 6.29830215</td><td> 1.8421807</td><td>0.06544872</td></tr>\n",
       "\t<tr><th scope=row>TPP3</th><td> -2.11694828</td><td> 1.03517461</td><td>-2.0450156</td><td>0.04085332</td></tr>\n",
       "\t<tr><th scope=row>VBD</th><td>  2.23863076</td><td> 0.89297040</td><td> 2.5069485</td><td>0.01217785</td></tr>\n",
       "\t<tr><th scope=row>Average_sentence_length</th><td>  0.50342425</td><td> 0.25188943</td><td> 1.9985922</td><td>0.04565250</td></tr>\n",
       "\t<tr><th scope=row>CONC</th><td> 28.47367961</td><td>15.31548037</td><td> 1.8591437</td><td>0.06300677</td></tr>\n",
       "</tbody>\n",
       "</table>\n"
      ],
      "text/latex": [
       "A matrix: 8 × 4 of type dbl\n",
       "\\begin{tabular}{r|llll}\n",
       "  & Estimate & Std. Error & z value & Pr(>\\textbar{}z\\textbar{})\\\\\n",
       "\\hline\n",
       "\t(Intercept) & -94.50467268 & 40.29391069 & -2.3453835 & 0.01900752\\\\\n",
       "\tTTR &   0.04156127 &  0.02633048 &  1.5784472 & 0.11446292\\\\\n",
       "\tFPP1 &   1.33900006 &  1.49226203 &  0.8972955 & 0.36956124\\\\\n",
       "\tAWL &  11.60261071 &  6.29830215 &  1.8421807 & 0.06544872\\\\\n",
       "\tTPP3 &  -2.11694828 &  1.03517461 & -2.0450156 & 0.04085332\\\\\n",
       "\tVBD &   2.23863076 &  0.89297040 &  2.5069485 & 0.01217785\\\\\n",
       "\tAverage\\_sentence\\_length &   0.50342425 &  0.25188943 &  1.9985922 & 0.04565250\\\\\n",
       "\tCONC &  28.47367961 & 15.31548037 &  1.8591437 & 0.06300677\\\\\n",
       "\\end{tabular}\n"
      ],
      "text/markdown": [
       "\n",
       "A matrix: 8 × 4 of type dbl\n",
       "\n",
       "| <!--/--> | Estimate | Std. Error | z value | Pr(&gt;|z|) |\n",
       "|---|---|---|---|---|\n",
       "| (Intercept) | -94.50467268 | 40.29391069 | -2.3453835 | 0.01900752 |\n",
       "| TTR |   0.04156127 |  0.02633048 |  1.5784472 | 0.11446292 |\n",
       "| FPP1 |   1.33900006 |  1.49226203 |  0.8972955 | 0.36956124 |\n",
       "| AWL |  11.60261071 |  6.29830215 |  1.8421807 | 0.06544872 |\n",
       "| TPP3 |  -2.11694828 |  1.03517461 | -2.0450156 | 0.04085332 |\n",
       "| VBD |   2.23863076 |  0.89297040 |  2.5069485 | 0.01217785 |\n",
       "| Average_sentence_length |   0.50342425 |  0.25188943 |  1.9985922 | 0.04565250 |\n",
       "| CONC |  28.47367961 | 15.31548037 |  1.8591437 | 0.06300677 |\n",
       "\n"
      ],
      "text/plain": [
       "                        Estimate     Std. Error  z value    Pr(>|z|)  \n",
       "(Intercept)             -94.50467268 40.29391069 -2.3453835 0.01900752\n",
       "TTR                       0.04156127  0.02633048  1.5784472 0.11446292\n",
       "FPP1                      1.33900006  1.49226203  0.8972955 0.36956124\n",
       "AWL                      11.60261071  6.29830215  1.8421807 0.06544872\n",
       "TPP3                     -2.11694828  1.03517461 -2.0450156 0.04085332\n",
       "VBD                       2.23863076  0.89297040  2.5069485 0.01217785\n",
       "Average_sentence_length   0.50342425  0.25188943  1.9985922 0.04565250\n",
       "CONC                     28.47367961 15.31548037  1.8591437 0.06300677"
      ]
     },
     "metadata": {
      "tags": []
     },
     "output_type": "display_data"
    }
   ],
   "source": [
    "# inspect directions of correlations\n",
    "summary(model)$coef"
   ]
  },
  {
   "cell_type": "code",
   "execution_count": null,
   "metadata": {
    "id": "2yRKVo7dM4q4",
    "outputId": "441c0974-362f-48f7-bae5-0b8ff7e0d6b1"
   },
   "outputs": [
    {
     "data": {
      "text/html": [
       "<table>\n",
       "<caption>A anova: 7 × 3</caption>\n",
       "<thead>\n",
       "\t<tr><th></th><th scope=col>LR Chisq</th><th scope=col>Df</th><th scope=col>Pr(&gt;Chisq)</th></tr>\n",
       "\t<tr><th></th><th scope=col>&lt;dbl&gt;</th><th scope=col>&lt;dbl&gt;</th><th scope=col>&lt;dbl&gt;</th></tr>\n",
       "</thead>\n",
       "<tbody>\n",
       "\t<tr><th scope=row>TTR</th><td> 3.0623469</td><td>1</td><td>0.0801258639</td></tr>\n",
       "\t<tr><th scope=row>FPP1</th><td> 0.8669679</td><td>1</td><td>0.3517961046</td></tr>\n",
       "\t<tr><th scope=row>AWL</th><td> 5.6982063</td><td>1</td><td>0.0169822595</td></tr>\n",
       "\t<tr><th scope=row>TPP3</th><td> 8.1238403</td><td>1</td><td>0.0043686920</td></tr>\n",
       "\t<tr><th scope=row>VBD</th><td>14.2039357</td><td>1</td><td>0.0001640271</td></tr>\n",
       "\t<tr><th scope=row>Average_sentence_length</th><td> 6.5615053</td><td>1</td><td>0.0104208181</td></tr>\n",
       "\t<tr><th scope=row>CONC</th><td> 5.6187914</td><td>1</td><td>0.0177688986</td></tr>\n",
       "</tbody>\n",
       "</table>\n"
      ],
      "text/latex": [
       "A anova: 7 × 3\n",
       "\\begin{tabular}{r|lll}\n",
       "  & LR Chisq & Df & Pr(>Chisq)\\\\\n",
       "  & <dbl> & <dbl> & <dbl>\\\\\n",
       "\\hline\n",
       "\tTTR &  3.0623469 & 1 & 0.0801258639\\\\\n",
       "\tFPP1 &  0.8669679 & 1 & 0.3517961046\\\\\n",
       "\tAWL &  5.6982063 & 1 & 0.0169822595\\\\\n",
       "\tTPP3 &  8.1238403 & 1 & 0.0043686920\\\\\n",
       "\tVBD & 14.2039357 & 1 & 0.0001640271\\\\\n",
       "\tAverage\\_sentence\\_length &  6.5615053 & 1 & 0.0104208181\\\\\n",
       "\tCONC &  5.6187914 & 1 & 0.0177688986\\\\\n",
       "\\end{tabular}\n"
      ],
      "text/markdown": [
       "\n",
       "A anova: 7 × 3\n",
       "\n",
       "| <!--/--> | LR Chisq &lt;dbl&gt; | Df &lt;dbl&gt; | Pr(&gt;Chisq) &lt;dbl&gt; |\n",
       "|---|---|---|---|\n",
       "| TTR |  3.0623469 | 1 | 0.0801258639 |\n",
       "| FPP1 |  0.8669679 | 1 | 0.3517961046 |\n",
       "| AWL |  5.6982063 | 1 | 0.0169822595 |\n",
       "| TPP3 |  8.1238403 | 1 | 0.0043686920 |\n",
       "| VBD | 14.2039357 | 1 | 0.0001640271 |\n",
       "| Average_sentence_length |  6.5615053 | 1 | 0.0104208181 |\n",
       "| CONC |  5.6187914 | 1 | 0.0177688986 |\n",
       "\n"
      ],
      "text/plain": [
       "                        LR Chisq   Df Pr(>Chisq)  \n",
       "TTR                      3.0623469 1  0.0801258639\n",
       "FPP1                     0.8669679 1  0.3517961046\n",
       "AWL                      5.6982063 1  0.0169822595\n",
       "TPP3                     8.1238403 1  0.0043686920\n",
       "VBD                     14.2039357 1  0.0001640271\n",
       "Average_sentence_length  6.5615053 1  0.0104208181\n",
       "CONC                     5.6187914 1  0.0177688986"
      ]
     },
     "metadata": {
      "tags": []
     },
     "output_type": "display_data"
    }
   ],
   "source": [
    "# check Anova to see which predictors are significant\n",
    "Anova(model, type=\"III\", test.statistic=\"LR\")"
   ]
  },
  {
   "cell_type": "markdown",
   "metadata": {
    "id": "sCuFQTySM4q4"
   },
   "source": [
    "## 3.1. Interpretation\n",
    "\n",
    "Reference level = 1995\n",
    "\n",
    "#### Significant predictors: \n",
    "- AWL: Average word length\n",
    "- TPP3: Third person pronouns\n",
    "- VBD: past tense use \n",
    "- Average sentence length\n",
    "- CONC: concessives\n",
    "\n",
    "> **AWL (average word length)**: significant positive correlation: manifesto 2016 has a significantly higher average word length than 1995 --> **2016 more defaming**\n",
    "\n",
    "> **TPP3 (Third person pronouns)**: significant negative correlation: manifesto 2016 uses significantly fewer third person pronouns than 1995 --> **2016 more threatening, 1995 more defaming**\n",
    "\n",
    "> **VBD (past tense use)**: significant positive correlation: manifesto 2016 uses significantly more past tense than manifesto 1995 --> **more defaming**\n",
    "\n",
    "> **Average sentence length**: significant positive correlation: manifesto 2016 has a significantly higher average sentence length than 1995 ==> **more nuance?**\n",
    "\n",
    "> **CONC (concessive adverbial subordinators**: although, though): significant positve correlation: manifesto 2016 has a significantly higher amount of concessives than 1995 manifesto. ==> more nuance?"
   ]
  },
  {
   "cell_type": "markdown",
   "metadata": {
    "id": "rHNc_C9BM4q5"
   },
   "source": [
    "# 4. Visualization"
   ]
  },
  {
   "cell_type": "markdown",
   "metadata": {
    "id": "vUBkt9B_M4q5"
   },
   "source": [
    "## Average word length"
   ]
  },
  {
   "cell_type": "code",
   "execution_count": null,
   "metadata": {
    "id": "6IdCNd1pM4q5",
    "outputId": "be35f443-3756-488d-8e47-88a545b92278"
   },
   "outputs": [
    {
     "data": {
      "image/png": "[encoded data removed]",
      "text/plain": [
       "Plot with title “Average Word Length in manifestos of 1995 vs. 2016”"
      ]
     },
     "metadata": {
      "image/png": {
       "height": 420,
       "width": 420
      },
      "tags": []
     },
     "output_type": "display_data"
    }
   ],
   "source": [
    "# Average word length\n",
    "boxplot(df_1995_2016$AWL~df_1995_2016$year, notch=TRUE, \n",
    "       main = \"Average Word Length in manifestos of 1995 vs. 2016\", \n",
    "       xlab = \"Year\", \n",
    "       ylab = \"Average Word Length (per 100 tokens)\")"
   ]
  },
  {
   "cell_type": "markdown",
   "metadata": {
    "id": "vDbnfYiAM4q5"
   },
   "source": [
    "## Third person pronouns"
   ]
  },
  {
   "cell_type": "code",
   "execution_count": null,
   "metadata": {
    "id": "XW-rANzxM4q5",
    "outputId": "2331c4a9-05eb-47ef-984b-8def26fab80c"
   },
   "outputs": [
    {
     "data": {
      "image/png": "[encoded data removed]",
      "text/plain": [
       "Plot with title “Rel. freq. Third Person Pronoun use in manifestos 1995 vs. 2016”"
      ]
     },
     "metadata": {
      "image/png": {
       "height": 420,
       "width": 420
      },
      "tags": []
     },
     "output_type": "display_data"
    }
   ],
   "source": [
    "# Third person pronouns\n",
    "boxplot(df_1995_2016$TPP3~df_1995_2016$year, notch=TRUE, \n",
    "       main = \"Rel. freq. Third Person Pronoun use in manifestos 1995 vs. 2016\", \n",
    "       xlab = \"Year\", \n",
    "       ylab = \"Rel. freq. Third Person Pronoun use (per 100 tokens)\")"
   ]
  },
  {
   "cell_type": "markdown",
   "metadata": {
    "id": "CVhJLq36M4q6"
   },
   "source": [
    "## Past tense"
   ]
  },
  {
   "cell_type": "code",
   "execution_count": null,
   "metadata": {
    "id": "-r-7dMKUM4q6",
    "outputId": "225894d1-bf6f-46be-fe4a-7ba8018ed74e"
   },
   "outputs": [
    {
     "data": {
      "image/png": "[encoded data removed]",
      "text/plain": [
       "Plot with title “Rel. freq. Past tense use in manifestos 1995 vs. 2016”"
      ]
     },
     "metadata": {
      "image/png": {
       "height": 420,
       "width": 420
      },
      "tags": []
     },
     "output_type": "display_data"
    }
   ],
   "source": [
    "# Past tense\n",
    "boxplot(df_1995_2016$VBD~df_1995_2016$year, notch=TRUE, \n",
    "       main = \"Rel. freq. Past tense use in manifestos 1995 vs. 2016\", \n",
    "       xlab = \"Year\", \n",
    "       ylab = \"Rel. freq. Past tense use (per 100 tokens)\")"
   ]
  },
  {
   "cell_type": "markdown",
   "metadata": {
    "id": "K2Z1cGQjM4q6"
   },
   "source": [
    "## Average sentence length"
   ]
  },
  {
   "cell_type": "code",
   "execution_count": null,
   "metadata": {
    "id": "LTmeSq9dM4q6",
    "outputId": "0f988b23-11fa-4eed-bbd5-b777d851df0e"
   },
   "outputs": [
    {
     "name": "stderr",
     "output_type": "stream",
     "text": [
      "Warning message in bxp(list(stats = structure(c(20.27, 21.43, 22.06, 24.19, 28.3, :\n",
      "“some notches went outside hinges ('box'): maybe set notch=FALSE”\n"
     ]
    },
    {
     "data": {
      "image/png": "[encoded data removed]",
      "text/plain": [
       "Plot with title “Average Sentence Length in manifestos of 1995 vs. 2016”"
      ]
     },
     "metadata": {
      "image/png": {
       "height": 420,
       "width": 420
      },
      "tags": []
     },
     "output_type": "display_data"
    }
   ],
   "source": [
    "# Average sentence length\n",
    "boxplot(df_1995_2016$Average_sentence_length~df_1995_2016$year, notch=TRUE, \n",
    "       main = \"Average Sentence Length in manifestos of 1995 vs. 2016\", \n",
    "       xlab = \"Year\", \n",
    "       ylab = \"Average Sentence Length (per chunk of ca. 1500 tokens)\")"
   ]
  },
  {
   "cell_type": "markdown",
   "metadata": {
    "id": "4MzY9hUPM4q7"
   },
   "source": [
    "### Concessive adjverbial subordinators"
   ]
  },
  {
   "cell_type": "code",
   "execution_count": null,
   "metadata": {
    "id": "DkWEiIT3M4q7",
    "outputId": "2d4e3ce8-26b0-428d-d026-63dceae6c558"
   },
   "outputs": [
    {
     "name": "stderr",
     "output_type": "stream",
     "text": [
      "Warning message in bxp(list(stats = structure(c(0, 0, 0, 0.07, 0.13, 0, 0, 0.07, :\n",
      "“some notches went outside hinges ('box'): maybe set notch=FALSE”\n"
     ]
    },
    {
     "data": {
      "image/png": "[encoded data removed]",
      "text/plain": [
       "Plot with title “Rel. freq. Concessives in manifestos of 1995 vs. 2016”"
      ]
     },
     "metadata": {
      "image/png": {
       "height": 420,
       "width": 420
      },
      "tags": []
     },
     "output_type": "display_data"
    }
   ],
   "source": [
    "boxplot(df_1995_2016$CONC~df_1995_2016$year, notch=TRUE, \n",
    "       main = \"Rel. freq. Concessives in manifestos of 1995 vs. 2016\", \n",
    "       xlab = \"Year\", \n",
    "       ylab = \"Rel. freq. Concessives (per 100 tokens)\")"
   ]
  },
  {
   "cell_type": "markdown",
   "metadata": {
    "id": "a3ODAX0HM4q7"
   },
   "source": [
    "# 5. Correlation tests with coordinates of Principal Component Analysis"
   ]
  },
  {
   "cell_type": "markdown",
   "metadata": {
    "id": "Kqzowr2AM4q7"
   },
   "source": [
    "## 5.1. 1995 vs. 2010"
   ]
  },
  {
   "cell_type": "code",
   "execution_count": null,
   "metadata": {
    "id": "SeJRjmC7M4q7",
    "outputId": "15620628-0ae7-4158-996f-7a3f37652414"
   },
   "outputs": [
    {
     "data": {
      "text/html": [
       "<table>\n",
       "<caption>A data.frame: 6 × 4</caption>\n",
       "<thead>\n",
       "\t<tr><th></th><th scope=col>X</th><th scope=col>x1</th><th scope=col>x2</th><th scope=col>years</th></tr>\n",
       "\t<tr><th></th><th scope=col>&lt;int&gt;</th><th scope=col>&lt;dbl&gt;</th><th scope=col>&lt;dbl&gt;</th><th scope=col>&lt;int&gt;</th></tr>\n",
       "</thead>\n",
       "<tbody>\n",
       "\t<tr><th scope=row>1</th><td>0</td><td>-0.008235160</td><td>-0.030277874</td><td>1995</td></tr>\n",
       "\t<tr><th scope=row>2</th><td>1</td><td>-0.020330735</td><td>-0.004016512</td><td>1995</td></tr>\n",
       "\t<tr><th scope=row>3</th><td>2</td><td>-0.026307222</td><td>-0.008748106</td><td>1995</td></tr>\n",
       "\t<tr><th scope=row>4</th><td>3</td><td>-0.003341547</td><td>-0.005830725</td><td>1995</td></tr>\n",
       "\t<tr><th scope=row>5</th><td>4</td><td>-0.016739221</td><td> 0.002962745</td><td>1995</td></tr>\n",
       "\t<tr><th scope=row>6</th><td>5</td><td>-0.033560206</td><td>-0.013028223</td><td>1995</td></tr>\n",
       "</tbody>\n",
       "</table>\n"
      ],
      "text/latex": [
       "A data.frame: 6 × 4\n",
       "\\begin{tabular}{r|llll}\n",
       "  & X & x1 & x2 & years\\\\\n",
       "  & <int> & <dbl> & <dbl> & <int>\\\\\n",
       "\\hline\n",
       "\t1 & 0 & -0.008235160 & -0.030277874 & 1995\\\\\n",
       "\t2 & 1 & -0.020330735 & -0.004016512 & 1995\\\\\n",
       "\t3 & 2 & -0.026307222 & -0.008748106 & 1995\\\\\n",
       "\t4 & 3 & -0.003341547 & -0.005830725 & 1995\\\\\n",
       "\t5 & 4 & -0.016739221 &  0.002962745 & 1995\\\\\n",
       "\t6 & 5 & -0.033560206 & -0.013028223 & 1995\\\\\n",
       "\\end{tabular}\n"
      ],
      "text/markdown": [
       "\n",
       "A data.frame: 6 × 4\n",
       "\n",
       "| <!--/--> | X &lt;int&gt; | x1 &lt;dbl&gt; | x2 &lt;dbl&gt; | years &lt;int&gt; |\n",
       "|---|---|---|---|---|\n",
       "| 1 | 0 | -0.008235160 | -0.030277874 | 1995 |\n",
       "| 2 | 1 | -0.020330735 | -0.004016512 | 1995 |\n",
       "| 3 | 2 | -0.026307222 | -0.008748106 | 1995 |\n",
       "| 4 | 3 | -0.003341547 | -0.005830725 | 1995 |\n",
       "| 5 | 4 | -0.016739221 |  0.002962745 | 1995 |\n",
       "| 6 | 5 | -0.033560206 | -0.013028223 | 1995 |\n",
       "\n"
      ],
      "text/plain": [
       "  X x1           x2           years\n",
       "1 0 -0.008235160 -0.030277874 1995 \n",
       "2 1 -0.020330735 -0.004016512 1995 \n",
       "3 2 -0.026307222 -0.008748106 1995 \n",
       "4 3 -0.003341547 -0.005830725 1995 \n",
       "5 4 -0.016739221  0.002962745 1995 \n",
       "6 5 -0.033560206 -0.013028223 1995 "
      ]
     },
     "metadata": {
      "tags": []
     },
     "output_type": "display_data"
    }
   ],
   "source": [
    "df <- read.csv(\"/Users/Documents/dta/CLS/CLS_final/pca_df_coordinates_1995_2010.csv\")\n",
    "head(df)"
   ]
  },
  {
   "cell_type": "code",
   "execution_count": null,
   "metadata": {
    "id": "X_chOJ1_M4q8",
    "outputId": "8de5f109-01f5-4abf-f52c-ead6f0e87f8d"
   },
   "outputs": [
    {
     "data": {
      "text/plain": [
       "\n",
       "\tShapiro-Wilk normality test\n",
       "\n",
       "data:  df$x1\n",
       "W = 0.94069, p-value = 0.03021\n"
      ]
     },
     "metadata": {
      "tags": []
     },
     "output_type": "display_data"
    },
    {
     "data": {
      "text/plain": [
       "\n",
       "\tShapiro-Wilk normality test\n",
       "\n",
       "data:  df$x2\n",
       "W = 0.96156, p-value = 0.1679\n"
      ]
     },
     "metadata": {
      "tags": []
     },
     "output_type": "display_data"
    },
    {
     "data": {
      "text/plain": [
       "\n",
       "\tShapiro-Wilk normality test\n",
       "\n",
       "data:  df$years\n",
       "W = 0.63631, p-value = 5.802e-09\n"
      ]
     },
     "metadata": {
      "tags": []
     },
     "output_type": "display_data"
    }
   ],
   "source": [
    "# check for normality\n",
    "\n",
    "shapiro.test(df$x1)\n",
    "shapiro.test(df$x2)\n",
    "shapiro.test(df$years)\n",
    "\n",
    "# Not all of our variables are normally distributed, so we cannot compute Pearson's r.\n",
    "# Instead we proceed with Kendall's tau. "
   ]
  },
  {
   "cell_type": "code",
   "execution_count": null,
   "metadata": {
    "id": "uyxa1IFIM4q8",
    "outputId": "e27d38a0-1cab-4650-a229-ffa6f57d32ac"
   },
   "outputs": [
    {
     "data": {
      "text/plain": [
       "\n",
       "\tKendall's rank correlation tau\n",
       "\n",
       "data:  df$x1 and df$years\n",
       "z = 0.3274, p-value = 0.7434\n",
       "alternative hypothesis: true tau is not equal to 0\n",
       "sample estimates:\n",
       "       tau \n",
       "0.04224209 \n"
      ]
     },
     "metadata": {
      "tags": []
     },
     "output_type": "display_data"
    }
   ],
   "source": [
    "cor.test(df$x1, df$years, method=\"kendall\", exact=FALSE)\n",
    "\n",
    "# There is a correlation between the x1 coordinate and the year in which the manifesto was published,\n",
    "# but this correlation is not significant."
   ]
  },
  {
   "cell_type": "code",
   "execution_count": null,
   "metadata": {
    "id": "TnUNUVXuM4q8",
    "outputId": "4cc9d882-2d56-4529-c544-0ff564999d7b"
   },
   "outputs": [
    {
     "data": {
      "text/plain": [
       "\n",
       "\tKendall's rank correlation tau\n",
       "\n",
       "data:  df$x2 and df$years\n",
       "z = 0.17629, p-value = 0.8601\n",
       "alternative hypothesis: true tau is not equal to 0\n",
       "sample estimates:\n",
       "       tau \n",
       "0.02274574 \n"
      ]
     },
     "metadata": {
      "tags": []
     },
     "output_type": "display_data"
    }
   ],
   "source": [
    "cor.test(df$x2, df$years, method=\"kendall\", exact=FALSE)\n",
    "\n",
    "# There is a correlation between the x2 coordinate and the year in which the manifesto was published,\n",
    "# but this correlation is not significant."
   ]
  },
  {
   "cell_type": "markdown",
   "metadata": {
    "id": "01cTexnPM4q8"
   },
   "source": [
    "## 5.2. 1995 vs. 2016\n"
   ]
  },
  {
   "cell_type": "code",
   "execution_count": null,
   "metadata": {
    "id": "3vW8iw9SM4q9",
    "outputId": "2df02c7e-ac75-4ca0-dd44-273c1e8f8cd1"
   },
   "outputs": [
    {
     "data": {
      "text/html": [
       "<table>\n",
       "<caption>A data.frame: 6 × 4</caption>\n",
       "<thead>\n",
       "\t<tr><th></th><th scope=col>X</th><th scope=col>x1</th><th scope=col>x2</th><th scope=col>years</th></tr>\n",
       "\t<tr><th></th><th scope=col>&lt;int&gt;</th><th scope=col>&lt;dbl&gt;</th><th scope=col>&lt;dbl&gt;</th><th scope=col>&lt;int&gt;</th></tr>\n",
       "</thead>\n",
       "<tbody>\n",
       "\t<tr><th scope=row>1</th><td>0</td><td>-0.03696046</td><td>-0.005317137</td><td>1995</td></tr>\n",
       "\t<tr><th scope=row>2</th><td>1</td><td>-0.03014649</td><td>-0.021547047</td><td>1995</td></tr>\n",
       "\t<tr><th scope=row>3</th><td>2</td><td>-0.03355145</td><td>-0.023704811</td><td>1995</td></tr>\n",
       "\t<tr><th scope=row>4</th><td>3</td><td>-0.01124485</td><td>-0.007671736</td><td>1995</td></tr>\n",
       "\t<tr><th scope=row>5</th><td>4</td><td>-0.01903012</td><td>-0.019137159</td><td>1995</td></tr>\n",
       "\t<tr><th scope=row>6</th><td>5</td><td>-0.04052628</td><td>-0.027779455</td><td>1995</td></tr>\n",
       "</tbody>\n",
       "</table>\n"
      ],
      "text/latex": [
       "A data.frame: 6 × 4\n",
       "\\begin{tabular}{r|llll}\n",
       "  & X & x1 & x2 & years\\\\\n",
       "  & <int> & <dbl> & <dbl> & <int>\\\\\n",
       "\\hline\n",
       "\t1 & 0 & -0.03696046 & -0.005317137 & 1995\\\\\n",
       "\t2 & 1 & -0.03014649 & -0.021547047 & 1995\\\\\n",
       "\t3 & 2 & -0.03355145 & -0.023704811 & 1995\\\\\n",
       "\t4 & 3 & -0.01124485 & -0.007671736 & 1995\\\\\n",
       "\t5 & 4 & -0.01903012 & -0.019137159 & 1995\\\\\n",
       "\t6 & 5 & -0.04052628 & -0.027779455 & 1995\\\\\n",
       "\\end{tabular}\n"
      ],
      "text/markdown": [
       "\n",
       "A data.frame: 6 × 4\n",
       "\n",
       "| <!--/--> | X &lt;int&gt; | x1 &lt;dbl&gt; | x2 &lt;dbl&gt; | years &lt;int&gt; |\n",
       "|---|---|---|---|---|\n",
       "| 1 | 0 | -0.03696046 | -0.005317137 | 1995 |\n",
       "| 2 | 1 | -0.03014649 | -0.021547047 | 1995 |\n",
       "| 3 | 2 | -0.03355145 | -0.023704811 | 1995 |\n",
       "| 4 | 3 | -0.01124485 | -0.007671736 | 1995 |\n",
       "| 5 | 4 | -0.01903012 | -0.019137159 | 1995 |\n",
       "| 6 | 5 | -0.04052628 | -0.027779455 | 1995 |\n",
       "\n"
      ],
      "text/plain": [
       "  X x1          x2           years\n",
       "1 0 -0.03696046 -0.005317137 1995 \n",
       "2 1 -0.03014649 -0.021547047 1995 \n",
       "3 2 -0.03355145 -0.023704811 1995 \n",
       "4 3 -0.01124485 -0.007671736 1995 \n",
       "5 4 -0.01903012 -0.019137159 1995 \n",
       "6 5 -0.04052628 -0.027779455 1995 "
      ]
     },
     "metadata": {
      "tags": []
     },
     "output_type": "display_data"
    }
   ],
   "source": [
    "df <- read.csv(\"/Users/Documents/dta/CLS/CLS_final/pca_df_coordinates_1995_2016.csv\")\n",
    "head(df)"
   ]
  },
  {
   "cell_type": "code",
   "execution_count": null,
   "metadata": {
    "id": "8TtYf2M9M4q9",
    "outputId": "0e3f1edc-6d6e-482d-bea2-20b12060f8cf"
   },
   "outputs": [
    {
     "data": {
      "text/plain": [
       "\n",
       "\tShapiro-Wilk normality test\n",
       "\n",
       "data:  df$x1\n",
       "W = 0.95303, p-value = 0.01399\n"
      ]
     },
     "metadata": {
      "tags": []
     },
     "output_type": "display_data"
    },
    {
     "data": {
      "text/plain": [
       "\n",
       "\tShapiro-Wilk normality test\n",
       "\n",
       "data:  df$x2\n",
       "W = 0.95005, p-value = 0.009872\n"
      ]
     },
     "metadata": {
      "tags": []
     },
     "output_type": "display_data"
    },
    {
     "data": {
      "text/plain": [
       "\n",
       "\tShapiro-Wilk normality test\n",
       "\n",
       "data:  df$years\n",
       "W = 0.59485, p-value = 3.262e-12\n"
      ]
     },
     "metadata": {
      "tags": []
     },
     "output_type": "display_data"
    }
   ],
   "source": [
    "# check for normality\n",
    "\n",
    "shapiro.test(df$x1)\n",
    "shapiro.test(df$x2)\n",
    "shapiro.test(df$years)\n",
    "\n",
    "# None of our variables are normally distributed, so we cannot compute Pearson's r.\n",
    "# Instead we proceed with Kendall's tau. "
   ]
  },
  {
   "cell_type": "code",
   "execution_count": null,
   "metadata": {
    "id": "1EiY-H_cM4q9",
    "outputId": "7890de62-48e4-4763-c153-0af99d487adb"
   },
   "outputs": [
    {
     "data": {
      "text/plain": [
       "\n",
       "\tKendall's rank correlation tau\n",
       "\n",
       "data:  df$x1 and df$years\n",
       "z = 5.3185, p-value = 1.046e-07\n",
       "alternative hypothesis: true tau is not equal to 0\n",
       "sample estimates:\n",
       "      tau \n",
       "0.5426945 \n"
      ]
     },
     "metadata": {
      "tags": []
     },
     "output_type": "display_data"
    }
   ],
   "source": [
    "cor.test(df$x1, df$years, method=\"kendall\", exact=FALSE)\n",
    "\n",
    "# There is a significant correlation between the x1 coordinate and the year in which the manifesto was published."
   ]
  },
  {
   "cell_type": "code",
   "execution_count": null,
   "metadata": {
    "id": "r6gbxGtaM4q9",
    "outputId": "890dfdb5-3e60-46d7-b7e2-fe9231ec7fbf"
   },
   "outputs": [
    {
     "data": {
      "text/plain": [
       "\n",
       "\tKendall's rank correlation tau\n",
       "\n",
       "data:  df$x2 and df$years\n",
       "z = 1.5235, p-value = 0.1276\n",
       "alternative hypothesis: true tau is not equal to 0\n",
       "sample estimates:\n",
       "      tau \n",
       "0.1554521 \n"
      ]
     },
     "metadata": {
      "tags": []
     },
     "output_type": "display_data"
    }
   ],
   "source": [
    "cor.test(df$x2, df$years, method=\"kendall\", exact=FALSE)\n",
    "\n",
    "# There is a correlation between the x2 coordinate and the year in which the manifesto was published,\n",
    "# but this correlation is not significant."
   ]
  }
 ],
 "metadata": {
  "colab": {
   "collapsed_sections": [
    "EQIoDBcXM4qo",
    "ml48VB7IM4qs",
    "4Q-M6M6tM4qt",
    "Gfaq8hpZM4qt",
    "Tjql1VF5M4qu",
    "ymoU88KVM4qv",
    "Sd1aPNbsM4qv",
    "JsGnifwoM4qw",
    "Qo2l1FkcM4qx",
    "eTUjZgEDM4qy",
    "RZEDB7Q-M4qz",
    "RuR7R6ZYM4q0",
    "ZPtwhFiNM4q0",
    "KpBQQuH9M4q1",
    "sCuFQTySM4q4",
    "vUBkt9B_M4q5",
    "vDbnfYiAM4q5",
    "CVhJLq36M4q6",
    "K2Z1cGQjM4q6",
    "4MzY9hUPM4q7",
    "Kqzowr2AM4q7",
    "01cTexnPM4q8"
   ],
   "name": "4.5_Statistical_Analyses.ipynb",
   "provenance": []
  },
  "kernelspec": {
   "display_name": "R",
   "language": "R",
   "name": "kernelspec"
  },
  "language_info": {
   "codemirror_mode": "r",
   "file_extension": ".r",
   "mimetype": "text/x-r-source",
   "name": "R",
   "pygments_lexer": "r",
   "version": "4.0.3"
  }
 },
 "nbformat": 4,
 "nbformat_minor": 4
}
